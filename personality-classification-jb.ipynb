{
 "cells": [
  {
   "cell_type": "markdown",
   "id": "4a3f2892",
   "metadata": {
    "papermill": {
     "duration": 0.00971,
     "end_time": "2025-07-21T17:46:01.575916",
     "exception": false,
     "start_time": "2025-07-21T17:46:01.566206",
     "status": "completed"
    },
    "tags": []
   },
   "source": [
    "# Personality Classification"
   ]
  },
  {
   "cell_type": "code",
   "execution_count": 1,
   "id": "d77f78ac",
   "metadata": {
    "execution": {
     "iopub.execute_input": "2025-07-21T17:46:01.595441Z",
     "iopub.status.busy": "2025-07-21T17:46:01.595025Z",
     "iopub.status.idle": "2025-07-21T17:46:12.617988Z",
     "shell.execute_reply": "2025-07-21T17:46:12.616976Z"
    },
    "papermill": {
     "duration": 11.034338,
     "end_time": "2025-07-21T17:46:12.619555",
     "exception": false,
     "start_time": "2025-07-21T17:46:01.585217",
     "status": "completed"
    },
    "tags": []
   },
   "outputs": [
    {
     "data": {
      "text/html": [
       "\n",
       "            <div>\n",
       "                <ins><a href=\"https://ydata.ai/register\">Upgrade to ydata-sdk</a></ins>\n",
       "                <p>\n",
       "                    Improve your data and profiling with ydata-sdk, featuring data quality scoring, redundancy detection, outlier identification, text validation, and synthetic data generation.\n",
       "                </p>\n",
       "            </div>\n",
       "            "
      ],
      "text/plain": [
       "<IPython.core.display.HTML object>"
      ]
     },
     "metadata": {},
     "output_type": "display_data"
    }
   ],
   "source": [
    "import pandas as pd\n",
    "import plotnine as p9\n",
    "import numpy as np\n",
    "import seaborn as sns\n",
    "import matplotlib.pyplot as plt\n",
    "\n",
    "from sklearn.linear_model import LogisticRegression\n",
    "from sklearn.neighbors import KNeighborsClassifier\n",
    "from sklearn.svm import SVC\n",
    "from sklearn.tree import DecisionTreeClassifier\n",
    "from sklearn.ensemble import RandomForestClassifier\n",
    "from sklearn.ensemble import StackingClassifier\n",
    "\n",
    "from xgboost import XGBClassifier\n",
    "\n",
    "from ydata_profiling import ProfileReport\n",
    "from sklearn.impute import SimpleImputer\n",
    "from sklearn.preprocessing import OneHotEncoder\n",
    "from sklearn.preprocessing import LabelEncoder\n",
    "from sklearn.model_selection import train_test_split\n",
    "from sklearn.preprocessing import StandardScaler \n",
    "from sklearn.metrics import accuracy_score, f1_score, confusion_matrix, classification_report\n",
    "\n",
    "from sklearn.model_selection import cross_validate\n",
    "from sklearn.model_selection import cross_val_score\n",
    "\n",
    "from sklearn.model_selection import GridSearchCV\n"
   ]
  },
  {
   "cell_type": "code",
   "execution_count": 2,
   "id": "5b1442fe",
   "metadata": {
    "execution": {
     "iopub.execute_input": "2025-07-21T17:46:12.639382Z",
     "iopub.status.busy": "2025-07-21T17:46:12.638815Z",
     "iopub.status.idle": "2025-07-21T17:46:12.880221Z",
     "shell.execute_reply": "2025-07-21T17:46:12.879243Z"
    },
    "papermill": {
     "duration": 0.252374,
     "end_time": "2025-07-21T17:46:12.881589",
     "exception": false,
     "start_time": "2025-07-21T17:46:12.629215",
     "status": "completed"
    },
    "tags": []
   },
   "outputs": [
    {
     "name": "stdout",
     "output_type": "stream",
     "text": [
      "Path to dataset files: /kaggle/input/extrovert-vs-introvert-behavior-data\n"
     ]
    }
   ],
   "source": [
    "import kagglehub\n",
    "\n",
    "# Download latest version\n",
    "path = kagglehub.dataset_download(\"rakeshkapilavai/extrovert-vs-introvert-behavior-data\")\n",
    "\n",
    "print(\"Path to dataset files:\", path)"
   ]
  },
  {
   "cell_type": "code",
   "execution_count": 3,
   "id": "36788b31",
   "metadata": {
    "execution": {
     "iopub.execute_input": "2025-07-21T17:46:12.900135Z",
     "iopub.status.busy": "2025-07-21T17:46:12.899786Z",
     "iopub.status.idle": "2025-07-21T17:46:12.921219Z",
     "shell.execute_reply": "2025-07-21T17:46:12.920467Z"
    },
    "papermill": {
     "duration": 0.03249,
     "end_time": "2025-07-21T17:46:12.922779",
     "exception": false,
     "start_time": "2025-07-21T17:46:12.890289",
     "status": "completed"
    },
    "tags": []
   },
   "outputs": [],
   "source": [
    "df_personality = pd.read_csv('/kaggle/input/extrovert-vs-introvert-behavior-data/personality_dataset.csv')"
   ]
  },
  {
   "cell_type": "markdown",
   "id": "01886d68",
   "metadata": {
    "papermill": {
     "duration": 0.008642,
     "end_time": "2025-07-21T17:46:12.940448",
     "exception": false,
     "start_time": "2025-07-21T17:46:12.931806",
     "status": "completed"
    },
    "tags": []
   },
   "source": [
    "## EDA"
   ]
  },
  {
   "cell_type": "code",
   "execution_count": 4,
   "id": "e358e7d9",
   "metadata": {
    "execution": {
     "iopub.execute_input": "2025-07-21T17:46:12.958806Z",
     "iopub.status.busy": "2025-07-21T17:46:12.958468Z",
     "iopub.status.idle": "2025-07-21T17:46:12.988248Z",
     "shell.execute_reply": "2025-07-21T17:46:12.987252Z"
    },
    "papermill": {
     "duration": 0.041167,
     "end_time": "2025-07-21T17:46:12.990209",
     "exception": false,
     "start_time": "2025-07-21T17:46:12.949042",
     "status": "completed"
    },
    "tags": []
   },
   "outputs": [
    {
     "name": "stderr",
     "output_type": "stream",
     "text": [
      "/usr/local/lib/python3.11/dist-packages/pandas/io/formats/format.py:1458: RuntimeWarning: invalid value encountered in greater\n",
      "/usr/local/lib/python3.11/dist-packages/pandas/io/formats/format.py:1459: RuntimeWarning: invalid value encountered in less\n",
      "/usr/local/lib/python3.11/dist-packages/pandas/io/formats/format.py:1459: RuntimeWarning: invalid value encountered in greater\n"
     ]
    },
    {
     "data": {
      "text/html": [
       "<div>\n",
       "<style scoped>\n",
       "    .dataframe tbody tr th:only-of-type {\n",
       "        vertical-align: middle;\n",
       "    }\n",
       "\n",
       "    .dataframe tbody tr th {\n",
       "        vertical-align: top;\n",
       "    }\n",
       "\n",
       "    .dataframe thead th {\n",
       "        text-align: right;\n",
       "    }\n",
       "</style>\n",
       "<table border=\"1\" class=\"dataframe\">\n",
       "  <thead>\n",
       "    <tr style=\"text-align: right;\">\n",
       "      <th></th>\n",
       "      <th>Time_spent_Alone</th>\n",
       "      <th>Stage_fear</th>\n",
       "      <th>Social_event_attendance</th>\n",
       "      <th>Going_outside</th>\n",
       "      <th>Drained_after_socializing</th>\n",
       "      <th>Friends_circle_size</th>\n",
       "      <th>Post_frequency</th>\n",
       "      <th>Personality</th>\n",
       "    </tr>\n",
       "  </thead>\n",
       "  <tbody>\n",
       "    <tr>\n",
       "      <th>0</th>\n",
       "      <td>4.0</td>\n",
       "      <td>No</td>\n",
       "      <td>4.0</td>\n",
       "      <td>6.0</td>\n",
       "      <td>No</td>\n",
       "      <td>13.0</td>\n",
       "      <td>5.0</td>\n",
       "      <td>Extrovert</td>\n",
       "    </tr>\n",
       "    <tr>\n",
       "      <th>1</th>\n",
       "      <td>9.0</td>\n",
       "      <td>Yes</td>\n",
       "      <td>0.0</td>\n",
       "      <td>0.0</td>\n",
       "      <td>Yes</td>\n",
       "      <td>0.0</td>\n",
       "      <td>3.0</td>\n",
       "      <td>Introvert</td>\n",
       "    </tr>\n",
       "    <tr>\n",
       "      <th>2</th>\n",
       "      <td>9.0</td>\n",
       "      <td>Yes</td>\n",
       "      <td>1.0</td>\n",
       "      <td>2.0</td>\n",
       "      <td>Yes</td>\n",
       "      <td>5.0</td>\n",
       "      <td>2.0</td>\n",
       "      <td>Introvert</td>\n",
       "    </tr>\n",
       "    <tr>\n",
       "      <th>3</th>\n",
       "      <td>0.0</td>\n",
       "      <td>No</td>\n",
       "      <td>6.0</td>\n",
       "      <td>7.0</td>\n",
       "      <td>No</td>\n",
       "      <td>14.0</td>\n",
       "      <td>8.0</td>\n",
       "      <td>Extrovert</td>\n",
       "    </tr>\n",
       "    <tr>\n",
       "      <th>4</th>\n",
       "      <td>3.0</td>\n",
       "      <td>No</td>\n",
       "      <td>9.0</td>\n",
       "      <td>4.0</td>\n",
       "      <td>No</td>\n",
       "      <td>8.0</td>\n",
       "      <td>5.0</td>\n",
       "      <td>Extrovert</td>\n",
       "    </tr>\n",
       "    <tr>\n",
       "      <th>5</th>\n",
       "      <td>1.0</td>\n",
       "      <td>No</td>\n",
       "      <td>7.0</td>\n",
       "      <td>5.0</td>\n",
       "      <td>No</td>\n",
       "      <td>6.0</td>\n",
       "      <td>6.0</td>\n",
       "      <td>Extrovert</td>\n",
       "    </tr>\n",
       "    <tr>\n",
       "      <th>6</th>\n",
       "      <td>4.0</td>\n",
       "      <td>No</td>\n",
       "      <td>9.0</td>\n",
       "      <td>NaN</td>\n",
       "      <td>No</td>\n",
       "      <td>7.0</td>\n",
       "      <td>7.0</td>\n",
       "      <td>Extrovert</td>\n",
       "    </tr>\n",
       "    <tr>\n",
       "      <th>7</th>\n",
       "      <td>2.0</td>\n",
       "      <td>No</td>\n",
       "      <td>8.0</td>\n",
       "      <td>4.0</td>\n",
       "      <td>No</td>\n",
       "      <td>7.0</td>\n",
       "      <td>8.0</td>\n",
       "      <td>Extrovert</td>\n",
       "    </tr>\n",
       "    <tr>\n",
       "      <th>8</th>\n",
       "      <td>10.0</td>\n",
       "      <td>Yes</td>\n",
       "      <td>1.0</td>\n",
       "      <td>3.0</td>\n",
       "      <td>Yes</td>\n",
       "      <td>0.0</td>\n",
       "      <td>3.0</td>\n",
       "      <td>Introvert</td>\n",
       "    </tr>\n",
       "    <tr>\n",
       "      <th>9</th>\n",
       "      <td>0.0</td>\n",
       "      <td>No</td>\n",
       "      <td>8.0</td>\n",
       "      <td>6.0</td>\n",
       "      <td>No</td>\n",
       "      <td>13.0</td>\n",
       "      <td>8.0</td>\n",
       "      <td>Extrovert</td>\n",
       "    </tr>\n",
       "  </tbody>\n",
       "</table>\n",
       "</div>"
      ],
      "text/plain": [
       "   Time_spent_Alone Stage_fear  Social_event_attendance  Going_outside  \\\n",
       "0               4.0         No                      4.0            6.0   \n",
       "1               9.0        Yes                      0.0            0.0   \n",
       "2               9.0        Yes                      1.0            2.0   \n",
       "3               0.0         No                      6.0            7.0   \n",
       "4               3.0         No                      9.0            4.0   \n",
       "5               1.0         No                      7.0            5.0   \n",
       "6               4.0         No                      9.0            NaN   \n",
       "7               2.0         No                      8.0            4.0   \n",
       "8              10.0        Yes                      1.0            3.0   \n",
       "9               0.0         No                      8.0            6.0   \n",
       "\n",
       "  Drained_after_socializing  Friends_circle_size  Post_frequency Personality  \n",
       "0                        No                 13.0             5.0   Extrovert  \n",
       "1                       Yes                  0.0             3.0   Introvert  \n",
       "2                       Yes                  5.0             2.0   Introvert  \n",
       "3                        No                 14.0             8.0   Extrovert  \n",
       "4                        No                  8.0             5.0   Extrovert  \n",
       "5                        No                  6.0             6.0   Extrovert  \n",
       "6                        No                  7.0             7.0   Extrovert  \n",
       "7                        No                  7.0             8.0   Extrovert  \n",
       "8                       Yes                  0.0             3.0   Introvert  \n",
       "9                        No                 13.0             8.0   Extrovert  "
      ]
     },
     "execution_count": 4,
     "metadata": {},
     "output_type": "execute_result"
    }
   ],
   "source": [
    "df_personality.head(10)"
   ]
  },
  {
   "cell_type": "code",
   "execution_count": 5,
   "id": "a0db41ad",
   "metadata": {
    "execution": {
     "iopub.execute_input": "2025-07-21T17:46:13.009418Z",
     "iopub.status.busy": "2025-07-21T17:46:13.009131Z",
     "iopub.status.idle": "2025-07-21T17:46:13.386842Z",
     "shell.execute_reply": "2025-07-21T17:46:13.385864Z"
    },
    "papermill": {
     "duration": 0.389336,
     "end_time": "2025-07-21T17:46:13.388683",
     "exception": false,
     "start_time": "2025-07-21T17:46:12.999347",
     "status": "completed"
    },
    "tags": []
   },
   "outputs": [
    {
     "data": {
      "image/png": "[encoded data removed]",
      "text/plain": [
       "<Figure size 640x480 with 2 Axes>"
      ]
     },
     "metadata": {},
     "output_type": "display_data"
    }
   ],
   "source": [
    "sns.heatmap(df_personality[['Time_spent_Alone', 'Social_event_attendance', 'Going_outside', 'Friends_circle_size', 'Post_frequency']].corr(), fmt='.2f', annot=True, cmap='Blues')\n",
    "plt.show()"
   ]
  },
  {
   "cell_type": "code",
   "execution_count": 6,
   "id": "8b22591b",
   "metadata": {
    "execution": {
     "iopub.execute_input": "2025-07-21T17:46:13.410266Z",
     "iopub.status.busy": "2025-07-21T17:46:13.409938Z",
     "iopub.status.idle": "2025-07-21T17:46:13.421022Z",
     "shell.execute_reply": "2025-07-21T17:46:13.420022Z"
    },
    "papermill": {
     "duration": 0.023114,
     "end_time": "2025-07-21T17:46:13.422336",
     "exception": false,
     "start_time": "2025-07-21T17:46:13.399222",
     "status": "completed"
    },
    "tags": []
   },
   "outputs": [
    {
     "name": "stdout",
     "output_type": "stream",
     "text": [
      "Duplicates: 388\n"
     ]
    }
   ],
   "source": [
    "print(f'Duplicates: {df_personality.duplicated().sum()}')"
   ]
  },
  {
   "cell_type": "code",
   "execution_count": 7,
   "id": "da8183d2",
   "metadata": {
    "execution": {
     "iopub.execute_input": "2025-07-21T17:46:13.443227Z",
     "iopub.status.busy": "2025-07-21T17:46:13.442915Z",
     "iopub.status.idle": "2025-07-21T17:46:13.458337Z",
     "shell.execute_reply": "2025-07-21T17:46:13.457241Z"
    },
    "papermill": {
     "duration": 0.027518,
     "end_time": "2025-07-21T17:46:13.459782",
     "exception": false,
     "start_time": "2025-07-21T17:46:13.432264",
     "status": "completed"
    },
    "tags": []
   },
   "outputs": [
    {
     "name": "stdout",
     "output_type": "stream",
     "text": [
      "<class 'pandas.core.frame.DataFrame'>\n",
      "RangeIndex: 2900 entries, 0 to 2899\n",
      "Data columns (total 8 columns):\n",
      " #   Column                     Non-Null Count  Dtype  \n",
      "---  ------                     --------------  -----  \n",
      " 0   Time_spent_Alone           2837 non-null   float64\n",
      " 1   Stage_fear                 2827 non-null   object \n",
      " 2   Social_event_attendance    2838 non-null   float64\n",
      " 3   Going_outside              2834 non-null   float64\n",
      " 4   Drained_after_socializing  2848 non-null   object \n",
      " 5   Friends_circle_size        2823 non-null   float64\n",
      " 6   Post_frequency             2835 non-null   float64\n",
      " 7   Personality                2900 non-null   object \n",
      "dtypes: float64(5), object(3)\n",
      "memory usage: 181.4+ KB\n"
     ]
    }
   ],
   "source": [
    "df_personality.info()"
   ]
  },
  {
   "cell_type": "code",
   "execution_count": 8,
   "id": "5dc943bd",
   "metadata": {
    "execution": {
     "iopub.execute_input": "2025-07-21T17:46:13.480973Z",
     "iopub.status.busy": "2025-07-21T17:46:13.480614Z",
     "iopub.status.idle": "2025-07-21T17:46:13.485530Z",
     "shell.execute_reply": "2025-07-21T17:46:13.484499Z"
    },
    "papermill": {
     "duration": 0.016983,
     "end_time": "2025-07-21T17:46:13.486856",
     "exception": false,
     "start_time": "2025-07-21T17:46:13.469873",
     "status": "completed"
    },
    "tags": []
   },
   "outputs": [
    {
     "name": "stdout",
     "output_type": "stream",
     "text": [
      "Rows: 2900\n",
      "Columns: 8\n"
     ]
    }
   ],
   "source": [
    "print(f'Rows: {df_personality.shape[0]}')\n",
    "print(f'Columns: {df_personality.shape[1]}')"
   ]
  },
  {
   "cell_type": "code",
   "execution_count": 9,
   "id": "c5384628",
   "metadata": {
    "execution": {
     "iopub.execute_input": "2025-07-21T17:46:13.508076Z",
     "iopub.status.busy": "2025-07-21T17:46:13.507760Z",
     "iopub.status.idle": "2025-07-21T17:46:13.525923Z",
     "shell.execute_reply": "2025-07-21T17:46:13.525001Z"
    },
    "papermill": {
     "duration": 0.030505,
     "end_time": "2025-07-21T17:46:13.527408",
     "exception": false,
     "start_time": "2025-07-21T17:46:13.496903",
     "status": "completed"
    },
    "tags": []
   },
   "outputs": [
    {
     "name": "stderr",
     "output_type": "stream",
     "text": [
      "/usr/local/lib/python3.11/dist-packages/pandas/io/formats/format.py:1458: RuntimeWarning: invalid value encountered in greater\n",
      "/usr/local/lib/python3.11/dist-packages/pandas/io/formats/format.py:1459: RuntimeWarning: invalid value encountered in less\n",
      "/usr/local/lib/python3.11/dist-packages/pandas/io/formats/format.py:1459: RuntimeWarning: invalid value encountered in greater\n"
     ]
    },
    {
     "data": {
      "text/html": [
       "<div>\n",
       "<style scoped>\n",
       "    .dataframe tbody tr th:only-of-type {\n",
       "        vertical-align: middle;\n",
       "    }\n",
       "\n",
       "    .dataframe tbody tr th {\n",
       "        vertical-align: top;\n",
       "    }\n",
       "\n",
       "    .dataframe thead th {\n",
       "        text-align: right;\n",
       "    }\n",
       "</style>\n",
       "<table border=\"1\" class=\"dataframe\">\n",
       "  <thead>\n",
       "    <tr style=\"text-align: right;\">\n",
       "      <th></th>\n",
       "      <th>Time_spent_Alone</th>\n",
       "      <th>Stage_fear</th>\n",
       "      <th>Social_event_attendance</th>\n",
       "      <th>Going_outside</th>\n",
       "      <th>Drained_after_socializing</th>\n",
       "      <th>Friends_circle_size</th>\n",
       "      <th>Post_frequency</th>\n",
       "      <th>Personality</th>\n",
       "    </tr>\n",
       "  </thead>\n",
       "  <tbody>\n",
       "    <tr>\n",
       "      <th>6</th>\n",
       "      <td>4.0</td>\n",
       "      <td>No</td>\n",
       "      <td>9.0</td>\n",
       "      <td>NaN</td>\n",
       "      <td>No</td>\n",
       "      <td>7.0</td>\n",
       "      <td>7.0</td>\n",
       "      <td>Extrovert</td>\n",
       "    </tr>\n",
       "    <tr>\n",
       "      <th>33</th>\n",
       "      <td>8.0</td>\n",
       "      <td>Yes</td>\n",
       "      <td>3.0</td>\n",
       "      <td>3.0</td>\n",
       "      <td>NaN</td>\n",
       "      <td>2.0</td>\n",
       "      <td>0.0</td>\n",
       "      <td>Introvert</td>\n",
       "    </tr>\n",
       "    <tr>\n",
       "      <th>41</th>\n",
       "      <td>1.0</td>\n",
       "      <td>No</td>\n",
       "      <td>4.0</td>\n",
       "      <td>5.0</td>\n",
       "      <td>No</td>\n",
       "      <td>NaN</td>\n",
       "      <td>10.0</td>\n",
       "      <td>Extrovert</td>\n",
       "    </tr>\n",
       "    <tr>\n",
       "      <th>59</th>\n",
       "      <td>NaN</td>\n",
       "      <td>No</td>\n",
       "      <td>9.0</td>\n",
       "      <td>4.0</td>\n",
       "      <td>No</td>\n",
       "      <td>7.0</td>\n",
       "      <td>5.0</td>\n",
       "      <td>Extrovert</td>\n",
       "    </tr>\n",
       "    <tr>\n",
       "      <th>71</th>\n",
       "      <td>1.0</td>\n",
       "      <td>No</td>\n",
       "      <td>NaN</td>\n",
       "      <td>5.0</td>\n",
       "      <td>No</td>\n",
       "      <td>11.0</td>\n",
       "      <td>8.0</td>\n",
       "      <td>Extrovert</td>\n",
       "    </tr>\n",
       "    <tr>\n",
       "      <th>...</th>\n",
       "      <td>...</td>\n",
       "      <td>...</td>\n",
       "      <td>...</td>\n",
       "      <td>...</td>\n",
       "      <td>...</td>\n",
       "      <td>...</td>\n",
       "      <td>...</td>\n",
       "      <td>...</td>\n",
       "    </tr>\n",
       "    <tr>\n",
       "      <th>2882</th>\n",
       "      <td>1.0</td>\n",
       "      <td>NaN</td>\n",
       "      <td>9.0</td>\n",
       "      <td>3.0</td>\n",
       "      <td>No</td>\n",
       "      <td>7.0</td>\n",
       "      <td>6.0</td>\n",
       "      <td>Extrovert</td>\n",
       "    </tr>\n",
       "    <tr>\n",
       "      <th>2885</th>\n",
       "      <td>10.0</td>\n",
       "      <td>Yes</td>\n",
       "      <td>0.0</td>\n",
       "      <td>0.0</td>\n",
       "      <td>NaN</td>\n",
       "      <td>2.0</td>\n",
       "      <td>0.0</td>\n",
       "      <td>Introvert</td>\n",
       "    </tr>\n",
       "    <tr>\n",
       "      <th>2893</th>\n",
       "      <td>9.0</td>\n",
       "      <td>NaN</td>\n",
       "      <td>2.0</td>\n",
       "      <td>0.0</td>\n",
       "      <td>Yes</td>\n",
       "      <td>4.0</td>\n",
       "      <td>2.0</td>\n",
       "      <td>Introvert</td>\n",
       "    </tr>\n",
       "    <tr>\n",
       "      <th>2894</th>\n",
       "      <td>0.0</td>\n",
       "      <td>No</td>\n",
       "      <td>9.0</td>\n",
       "      <td>3.0</td>\n",
       "      <td>No</td>\n",
       "      <td>12.0</td>\n",
       "      <td>NaN</td>\n",
       "      <td>Extrovert</td>\n",
       "    </tr>\n",
       "    <tr>\n",
       "      <th>2898</th>\n",
       "      <td>11.0</td>\n",
       "      <td>Yes</td>\n",
       "      <td>1.0</td>\n",
       "      <td>NaN</td>\n",
       "      <td>Yes</td>\n",
       "      <td>2.0</td>\n",
       "      <td>0.0</td>\n",
       "      <td>Introvert</td>\n",
       "    </tr>\n",
       "  </tbody>\n",
       "</table>\n",
       "<p>423 rows × 8 columns</p>\n",
       "</div>"
      ],
      "text/plain": [
       "      Time_spent_Alone Stage_fear  Social_event_attendance  Going_outside  \\\n",
       "6                  4.0         No                      9.0            NaN   \n",
       "33                 8.0        Yes                      3.0            3.0   \n",
       "41                 1.0         No                      4.0            5.0   \n",
       "59                 NaN         No                      9.0            4.0   \n",
       "71                 1.0         No                      NaN            5.0   \n",
       "...                ...        ...                      ...            ...   \n",
       "2882               1.0        NaN                      9.0            3.0   \n",
       "2885              10.0        Yes                      0.0            0.0   \n",
       "2893               9.0        NaN                      2.0            0.0   \n",
       "2894               0.0         No                      9.0            3.0   \n",
       "2898              11.0        Yes                      1.0            NaN   \n",
       "\n",
       "     Drained_after_socializing  Friends_circle_size  Post_frequency  \\\n",
       "6                           No                  7.0             7.0   \n",
       "33                         NaN                  2.0             0.0   \n",
       "41                          No                  NaN            10.0   \n",
       "59                          No                  7.0             5.0   \n",
       "71                          No                 11.0             8.0   \n",
       "...                        ...                  ...             ...   \n",
       "2882                        No                  7.0             6.0   \n",
       "2885                       NaN                  2.0             0.0   \n",
       "2893                       Yes                  4.0             2.0   \n",
       "2894                        No                 12.0             NaN   \n",
       "2898                       Yes                  2.0             0.0   \n",
       "\n",
       "     Personality  \n",
       "6      Extrovert  \n",
       "33     Introvert  \n",
       "41     Extrovert  \n",
       "59     Extrovert  \n",
       "71     Extrovert  \n",
       "...          ...  \n",
       "2882   Extrovert  \n",
       "2885   Introvert  \n",
       "2893   Introvert  \n",
       "2894   Extrovert  \n",
       "2898   Introvert  \n",
       "\n",
       "[423 rows x 8 columns]"
      ]
     },
     "execution_count": 9,
     "metadata": {},
     "output_type": "execute_result"
    }
   ],
   "source": [
    "df_personality[df_personality.isna().any(axis=1)]"
   ]
  },
  {
   "cell_type": "code",
   "execution_count": 10,
   "id": "56f48aa9",
   "metadata": {
    "execution": {
     "iopub.execute_input": "2025-07-21T17:46:13.550426Z",
     "iopub.status.busy": "2025-07-21T17:46:13.550107Z",
     "iopub.status.idle": "2025-07-21T17:46:13.557076Z",
     "shell.execute_reply": "2025-07-21T17:46:13.556172Z"
    },
    "papermill": {
     "duration": 0.019802,
     "end_time": "2025-07-21T17:46:13.558447",
     "exception": false,
     "start_time": "2025-07-21T17:46:13.538645",
     "status": "completed"
    },
    "tags": []
   },
   "outputs": [
    {
     "name": "stdout",
     "output_type": "stream",
     "text": [
      "Total NaN per column: \n",
      "Time_spent_Alone             63\n",
      "Stage_fear                   73\n",
      "Social_event_attendance      62\n",
      "Going_outside                66\n",
      "Drained_after_socializing    52\n",
      "Friends_circle_size          77\n",
      "Post_frequency               65\n",
      "Personality                   0\n",
      "dtype: int64\n"
     ]
    }
   ],
   "source": [
    "print(f'Total NaN per column: \\n{df_personality.isna().sum()}')"
   ]
  },
  {
   "cell_type": "markdown",
   "id": "605c92d5",
   "metadata": {
    "papermill": {
     "duration": 0.010123,
     "end_time": "2025-07-21T17:46:13.579210",
     "exception": false,
     "start_time": "2025-07-21T17:46:13.569087",
     "status": "completed"
    },
    "tags": []
   },
   "source": [
    "## Data Preprocessing"
   ]
  },
  {
   "cell_type": "code",
   "execution_count": 11,
   "id": "760f9f3a",
   "metadata": {
    "execution": {
     "iopub.execute_input": "2025-07-21T17:46:13.601366Z",
     "iopub.status.busy": "2025-07-21T17:46:13.601080Z",
     "iopub.status.idle": "2025-07-21T17:46:13.604971Z",
     "shell.execute_reply": "2025-07-21T17:46:13.604106Z"
    },
    "papermill": {
     "duration": 0.016758,
     "end_time": "2025-07-21T17:46:13.606327",
     "exception": false,
     "start_time": "2025-07-21T17:46:13.589569",
     "status": "completed"
    },
    "tags": []
   },
   "outputs": [],
   "source": [
    "# Encode the Personality column"
   ]
  },
  {
   "cell_type": "code",
   "execution_count": 12,
   "id": "54ee4fd0",
   "metadata": {
    "execution": {
     "iopub.execute_input": "2025-07-21T17:46:13.692545Z",
     "iopub.status.busy": "2025-07-21T17:46:13.692231Z",
     "iopub.status.idle": "2025-07-21T17:46:13.698207Z",
     "shell.execute_reply": "2025-07-21T17:46:13.697344Z"
    },
    "papermill": {
     "duration": 0.082908,
     "end_time": "2025-07-21T17:46:13.699639",
     "exception": false,
     "start_time": "2025-07-21T17:46:13.616731",
     "status": "completed"
    },
    "tags": []
   },
   "outputs": [],
   "source": [
    "label_e = LabelEncoder()\n",
    "df_personality['Personality'] = label_e.fit_transform(df_personality['Personality'])"
   ]
  },
  {
   "cell_type": "code",
   "execution_count": 13,
   "id": "8ed409b8",
   "metadata": {
    "execution": {
     "iopub.execute_input": "2025-07-21T17:46:13.722390Z",
     "iopub.status.busy": "2025-07-21T17:46:13.721535Z",
     "iopub.status.idle": "2025-07-21T17:46:13.725611Z",
     "shell.execute_reply": "2025-07-21T17:46:13.724903Z"
    },
    "papermill": {
     "duration": 0.016722,
     "end_time": "2025-07-21T17:46:13.726934",
     "exception": false,
     "start_time": "2025-07-21T17:46:13.710212",
     "status": "completed"
    },
    "tags": []
   },
   "outputs": [],
   "source": [
    "# We will not remove duplicates since this dataset seems to be a survey, it could explain the duplicates so we won't remove them.\n",
    "# I will use SimpleImputer to fill the NaN values\n",
    "# First I need to separate the numerical columns from the categorical columns"
   ]
  },
  {
   "cell_type": "code",
   "execution_count": 14,
   "id": "9842ddc4",
   "metadata": {
    "execution": {
     "iopub.execute_input": "2025-07-21T17:46:13.749335Z",
     "iopub.status.busy": "2025-07-21T17:46:13.749008Z",
     "iopub.status.idle": "2025-07-21T17:46:13.753360Z",
     "shell.execute_reply": "2025-07-21T17:46:13.752544Z"
    },
    "papermill": {
     "duration": 0.017222,
     "end_time": "2025-07-21T17:46:13.754751",
     "exception": false,
     "start_time": "2025-07-21T17:46:13.737529",
     "status": "completed"
    },
    "tags": []
   },
   "outputs": [],
   "source": [
    "personality_num = ['Time_spent_Alone', 'Social_event_attendance', 'Going_outside', 'Friends_circle_size', 'Post_frequency']\n",
    "personality_cat = ['Stage_fear', 'Drained_after_socializing']"
   ]
  },
  {
   "cell_type": "code",
   "execution_count": 15,
   "id": "b997e7e3",
   "metadata": {
    "execution": {
     "iopub.execute_input": "2025-07-21T17:46:13.777014Z",
     "iopub.status.busy": "2025-07-21T17:46:13.776722Z",
     "iopub.status.idle": "2025-07-21T17:46:13.780814Z",
     "shell.execute_reply": "2025-07-21T17:46:13.779932Z"
    },
    "papermill": {
     "duration": 0.017056,
     "end_time": "2025-07-21T17:46:13.782430",
     "exception": false,
     "start_time": "2025-07-21T17:46:13.765374",
     "status": "completed"
    },
    "tags": []
   },
   "outputs": [],
   "source": [
    "# For the numerical values I will use the mean, and for the categorical values, I will use the mode"
   ]
  },
  {
   "cell_type": "code",
   "execution_count": 16,
   "id": "0d02ecd2",
   "metadata": {
    "execution": {
     "iopub.execute_input": "2025-07-21T17:46:13.805647Z",
     "iopub.status.busy": "2025-07-21T17:46:13.804880Z",
     "iopub.status.idle": "2025-07-21T17:46:13.808866Z",
     "shell.execute_reply": "2025-07-21T17:46:13.808200Z"
    },
    "papermill": {
     "duration": 0.016653,
     "end_time": "2025-07-21T17:46:13.810195",
     "exception": false,
     "start_time": "2025-07-21T17:46:13.793542",
     "status": "completed"
    },
    "tags": []
   },
   "outputs": [],
   "source": [
    "num_imp = SimpleImputer(strategy='mean')\n",
    "cat_imp = SimpleImputer(strategy='most_frequent')"
   ]
  },
  {
   "cell_type": "code",
   "execution_count": 17,
   "id": "ded518e5",
   "metadata": {
    "execution": {
     "iopub.execute_input": "2025-07-21T17:46:13.832284Z",
     "iopub.status.busy": "2025-07-21T17:46:13.831979Z",
     "iopub.status.idle": "2025-07-21T17:46:13.846534Z",
     "shell.execute_reply": "2025-07-21T17:46:13.845728Z"
    },
    "papermill": {
     "duration": 0.027531,
     "end_time": "2025-07-21T17:46:13.848214",
     "exception": false,
     "start_time": "2025-07-21T17:46:13.820683",
     "status": "completed"
    },
    "tags": []
   },
   "outputs": [],
   "source": [
    "df_personality[personality_num] = num_imp.fit_transform(df_personality[personality_num])\n",
    "df_personality[personality_cat] = cat_imp.fit_transform(df_personality[personality_cat])"
   ]
  },
  {
   "cell_type": "code",
   "execution_count": 18,
   "id": "5389dc9a",
   "metadata": {
    "execution": {
     "iopub.execute_input": "2025-07-21T17:46:13.870967Z",
     "iopub.status.busy": "2025-07-21T17:46:13.870596Z",
     "iopub.status.idle": "2025-07-21T17:46:13.883233Z",
     "shell.execute_reply": "2025-07-21T17:46:13.882436Z"
    },
    "papermill": {
     "duration": 0.025882,
     "end_time": "2025-07-21T17:46:13.884785",
     "exception": false,
     "start_time": "2025-07-21T17:46:13.858903",
     "status": "completed"
    },
    "tags": []
   },
   "outputs": [],
   "source": [
    "# Then I encode the categorical features\n",
    "ohe = OneHotEncoder(drop='first')\n",
    "cat_transformed = ohe.fit_transform(df_personality[personality_cat]).toarray()\n",
    "df_cat_transformed = pd.DataFrame(cat_transformed, columns=ohe.get_feature_names_out())"
   ]
  },
  {
   "cell_type": "code",
   "execution_count": 19,
   "id": "ac701273",
   "metadata": {
    "execution": {
     "iopub.execute_input": "2025-07-21T17:46:13.907590Z",
     "iopub.status.busy": "2025-07-21T17:46:13.907297Z",
     "iopub.status.idle": "2025-07-21T17:46:13.911160Z",
     "shell.execute_reply": "2025-07-21T17:46:13.910288Z"
    },
    "papermill": {
     "duration": 0.017103,
     "end_time": "2025-07-21T17:46:13.912482",
     "exception": false,
     "start_time": "2025-07-21T17:46:13.895379",
     "status": "completed"
    },
    "tags": []
   },
   "outputs": [],
   "source": [
    "# Concatenate this df to our original df"
   ]
  },
  {
   "cell_type": "code",
   "execution_count": 20,
   "id": "711e2e23",
   "metadata": {
    "execution": {
     "iopub.execute_input": "2025-07-21T17:46:13.934769Z",
     "iopub.status.busy": "2025-07-21T17:46:13.934409Z",
     "iopub.status.idle": "2025-07-21T17:46:13.953173Z",
     "shell.execute_reply": "2025-07-21T17:46:13.952231Z"
    },
    "papermill": {
     "duration": 0.031544,
     "end_time": "2025-07-21T17:46:13.954719",
     "exception": false,
     "start_time": "2025-07-21T17:46:13.923175",
     "status": "completed"
    },
    "tags": []
   },
   "outputs": [
    {
     "data": {
      "text/html": [
       "<div>\n",
       "<style scoped>\n",
       "    .dataframe tbody tr th:only-of-type {\n",
       "        vertical-align: middle;\n",
       "    }\n",
       "\n",
       "    .dataframe tbody tr th {\n",
       "        vertical-align: top;\n",
       "    }\n",
       "\n",
       "    .dataframe thead th {\n",
       "        text-align: right;\n",
       "    }\n",
       "</style>\n",
       "<table border=\"1\" class=\"dataframe\">\n",
       "  <thead>\n",
       "    <tr style=\"text-align: right;\">\n",
       "      <th></th>\n",
       "      <th>Time_spent_Alone</th>\n",
       "      <th>Social_event_attendance</th>\n",
       "      <th>Going_outside</th>\n",
       "      <th>Friends_circle_size</th>\n",
       "      <th>Post_frequency</th>\n",
       "      <th>Personality</th>\n",
       "      <th>Stage_fear_Yes</th>\n",
       "      <th>Drained_after_socializing_Yes</th>\n",
       "    </tr>\n",
       "  </thead>\n",
       "  <tbody>\n",
       "    <tr>\n",
       "      <th>0</th>\n",
       "      <td>4.0</td>\n",
       "      <td>4.0</td>\n",
       "      <td>6.0</td>\n",
       "      <td>13.0</td>\n",
       "      <td>5.0</td>\n",
       "      <td>0</td>\n",
       "      <td>0.0</td>\n",
       "      <td>0.0</td>\n",
       "    </tr>\n",
       "    <tr>\n",
       "      <th>1</th>\n",
       "      <td>9.0</td>\n",
       "      <td>0.0</td>\n",
       "      <td>0.0</td>\n",
       "      <td>0.0</td>\n",
       "      <td>3.0</td>\n",
       "      <td>1</td>\n",
       "      <td>1.0</td>\n",
       "      <td>1.0</td>\n",
       "    </tr>\n",
       "    <tr>\n",
       "      <th>2</th>\n",
       "      <td>9.0</td>\n",
       "      <td>1.0</td>\n",
       "      <td>2.0</td>\n",
       "      <td>5.0</td>\n",
       "      <td>2.0</td>\n",
       "      <td>1</td>\n",
       "      <td>1.0</td>\n",
       "      <td>1.0</td>\n",
       "    </tr>\n",
       "    <tr>\n",
       "      <th>3</th>\n",
       "      <td>0.0</td>\n",
       "      <td>6.0</td>\n",
       "      <td>7.0</td>\n",
       "      <td>14.0</td>\n",
       "      <td>8.0</td>\n",
       "      <td>0</td>\n",
       "      <td>0.0</td>\n",
       "      <td>0.0</td>\n",
       "    </tr>\n",
       "    <tr>\n",
       "      <th>4</th>\n",
       "      <td>3.0</td>\n",
       "      <td>9.0</td>\n",
       "      <td>4.0</td>\n",
       "      <td>8.0</td>\n",
       "      <td>5.0</td>\n",
       "      <td>0</td>\n",
       "      <td>0.0</td>\n",
       "      <td>0.0</td>\n",
       "    </tr>\n",
       "    <tr>\n",
       "      <th>...</th>\n",
       "      <td>...</td>\n",
       "      <td>...</td>\n",
       "      <td>...</td>\n",
       "      <td>...</td>\n",
       "      <td>...</td>\n",
       "      <td>...</td>\n",
       "      <td>...</td>\n",
       "      <td>...</td>\n",
       "    </tr>\n",
       "    <tr>\n",
       "      <th>2895</th>\n",
       "      <td>3.0</td>\n",
       "      <td>7.0</td>\n",
       "      <td>6.0</td>\n",
       "      <td>6.0</td>\n",
       "      <td>6.0</td>\n",
       "      <td>0</td>\n",
       "      <td>0.0</td>\n",
       "      <td>0.0</td>\n",
       "    </tr>\n",
       "    <tr>\n",
       "      <th>2896</th>\n",
       "      <td>3.0</td>\n",
       "      <td>8.0</td>\n",
       "      <td>3.0</td>\n",
       "      <td>14.0</td>\n",
       "      <td>9.0</td>\n",
       "      <td>0</td>\n",
       "      <td>0.0</td>\n",
       "      <td>0.0</td>\n",
       "    </tr>\n",
       "    <tr>\n",
       "      <th>2897</th>\n",
       "      <td>4.0</td>\n",
       "      <td>1.0</td>\n",
       "      <td>1.0</td>\n",
       "      <td>4.0</td>\n",
       "      <td>0.0</td>\n",
       "      <td>1</td>\n",
       "      <td>1.0</td>\n",
       "      <td>1.0</td>\n",
       "    </tr>\n",
       "    <tr>\n",
       "      <th>2898</th>\n",
       "      <td>11.0</td>\n",
       "      <td>1.0</td>\n",
       "      <td>3.0</td>\n",
       "      <td>2.0</td>\n",
       "      <td>0.0</td>\n",
       "      <td>1</td>\n",
       "      <td>1.0</td>\n",
       "      <td>1.0</td>\n",
       "    </tr>\n",
       "    <tr>\n",
       "      <th>2899</th>\n",
       "      <td>3.0</td>\n",
       "      <td>6.0</td>\n",
       "      <td>6.0</td>\n",
       "      <td>6.0</td>\n",
       "      <td>9.0</td>\n",
       "      <td>0</td>\n",
       "      <td>0.0</td>\n",
       "      <td>0.0</td>\n",
       "    </tr>\n",
       "  </tbody>\n",
       "</table>\n",
       "<p>2900 rows × 8 columns</p>\n",
       "</div>"
      ],
      "text/plain": [
       "      Time_spent_Alone  Social_event_attendance  Going_outside  \\\n",
       "0                  4.0                      4.0            6.0   \n",
       "1                  9.0                      0.0            0.0   \n",
       "2                  9.0                      1.0            2.0   \n",
       "3                  0.0                      6.0            7.0   \n",
       "4                  3.0                      9.0            4.0   \n",
       "...                ...                      ...            ...   \n",
       "2895               3.0                      7.0            6.0   \n",
       "2896               3.0                      8.0            3.0   \n",
       "2897               4.0                      1.0            1.0   \n",
       "2898              11.0                      1.0            3.0   \n",
       "2899               3.0                      6.0            6.0   \n",
       "\n",
       "      Friends_circle_size  Post_frequency  Personality  Stage_fear_Yes  \\\n",
       "0                    13.0             5.0            0             0.0   \n",
       "1                     0.0             3.0            1             1.0   \n",
       "2                     5.0             2.0            1             1.0   \n",
       "3                    14.0             8.0            0             0.0   \n",
       "4                     8.0             5.0            0             0.0   \n",
       "...                   ...             ...          ...             ...   \n",
       "2895                  6.0             6.0            0             0.0   \n",
       "2896                 14.0             9.0            0             0.0   \n",
       "2897                  4.0             0.0            1             1.0   \n",
       "2898                  2.0             0.0            1             1.0   \n",
       "2899                  6.0             9.0            0             0.0   \n",
       "\n",
       "      Drained_after_socializing_Yes  \n",
       "0                               0.0  \n",
       "1                               1.0  \n",
       "2                               1.0  \n",
       "3                               0.0  \n",
       "4                               0.0  \n",
       "...                             ...  \n",
       "2895                            0.0  \n",
       "2896                            0.0  \n",
       "2897                            1.0  \n",
       "2898                            1.0  \n",
       "2899                            0.0  \n",
       "\n",
       "[2900 rows x 8 columns]"
      ]
     },
     "execution_count": 20,
     "metadata": {},
     "output_type": "execute_result"
    }
   ],
   "source": [
    "df_personality_final = pd.concat([df_personality.drop(columns=personality_cat), df_cat_transformed], axis=1)\n",
    "df_personality_final"
   ]
  },
  {
   "cell_type": "code",
   "execution_count": 21,
   "id": "562a3a65",
   "metadata": {
    "execution": {
     "iopub.execute_input": "2025-07-21T17:46:13.978121Z",
     "iopub.status.busy": "2025-07-21T17:46:13.977261Z",
     "iopub.status.idle": "2025-07-21T17:46:13.981343Z",
     "shell.execute_reply": "2025-07-21T17:46:13.980512Z"
    },
    "papermill": {
     "duration": 0.017008,
     "end_time": "2025-07-21T17:46:13.982629",
     "exception": false,
     "start_time": "2025-07-21T17:46:13.965621",
     "status": "completed"
    },
    "tags": []
   },
   "outputs": [],
   "source": [
    "# Train/Test split"
   ]
  },
  {
   "cell_type": "code",
   "execution_count": 22,
   "id": "641a0320",
   "metadata": {
    "execution": {
     "iopub.execute_input": "2025-07-21T17:46:14.005837Z",
     "iopub.status.busy": "2025-07-21T17:46:14.005120Z",
     "iopub.status.idle": "2025-07-21T17:46:14.010573Z",
     "shell.execute_reply": "2025-07-21T17:46:14.009778Z"
    },
    "papermill": {
     "duration": 0.01863,
     "end_time": "2025-07-21T17:46:14.012102",
     "exception": false,
     "start_time": "2025-07-21T17:46:13.993472",
     "status": "completed"
    },
    "tags": []
   },
   "outputs": [],
   "source": [
    "X = df_personality_final.drop(columns=['Personality'])\n",
    "y = df_personality_final['Personality']"
   ]
  },
  {
   "cell_type": "code",
   "execution_count": 23,
   "id": "d60c8404",
   "metadata": {
    "execution": {
     "iopub.execute_input": "2025-07-21T17:46:14.035589Z",
     "iopub.status.busy": "2025-07-21T17:46:14.034828Z",
     "iopub.status.idle": "2025-07-21T17:46:14.042154Z",
     "shell.execute_reply": "2025-07-21T17:46:14.041428Z"
    },
    "papermill": {
     "duration": 0.02068,
     "end_time": "2025-07-21T17:46:14.043756",
     "exception": false,
     "start_time": "2025-07-21T17:46:14.023076",
     "status": "completed"
    },
    "tags": []
   },
   "outputs": [],
   "source": [
    "X_train, X_test, y_train, y_test = train_test_split(X, y, test_size=0.3, shuffle=True, stratify=y)"
   ]
  },
  {
   "cell_type": "code",
   "execution_count": 24,
   "id": "c4077725",
   "metadata": {
    "execution": {
     "iopub.execute_input": "2025-07-21T17:46:14.067582Z",
     "iopub.status.busy": "2025-07-21T17:46:14.066967Z",
     "iopub.status.idle": "2025-07-21T17:46:14.070832Z",
     "shell.execute_reply": "2025-07-21T17:46:14.070009Z"
    },
    "papermill": {
     "duration": 0.017539,
     "end_time": "2025-07-21T17:46:14.072351",
     "exception": false,
     "start_time": "2025-07-21T17:46:14.054812",
     "status": "completed"
    },
    "tags": []
   },
   "outputs": [],
   "source": [
    "# Scaling Features"
   ]
  },
  {
   "cell_type": "code",
   "execution_count": 25,
   "id": "fb626d26",
   "metadata": {
    "execution": {
     "iopub.execute_input": "2025-07-21T17:46:14.095644Z",
     "iopub.status.busy": "2025-07-21T17:46:14.095340Z",
     "iopub.status.idle": "2025-07-21T17:46:14.099445Z",
     "shell.execute_reply": "2025-07-21T17:46:14.098511Z"
    },
    "papermill": {
     "duration": 0.017693,
     "end_time": "2025-07-21T17:46:14.101030",
     "exception": false,
     "start_time": "2025-07-21T17:46:14.083337",
     "status": "completed"
    },
    "tags": []
   },
   "outputs": [],
   "source": [
    "scaler = StandardScaler()"
   ]
  },
  {
   "cell_type": "code",
   "execution_count": 26,
   "id": "903337b2",
   "metadata": {
    "execution": {
     "iopub.execute_input": "2025-07-21T17:46:14.125007Z",
     "iopub.status.busy": "2025-07-21T17:46:14.124277Z",
     "iopub.status.idle": "2025-07-21T17:46:14.155494Z",
     "shell.execute_reply": "2025-07-21T17:46:14.154572Z"
    },
    "papermill": {
     "duration": 0.044769,
     "end_time": "2025-07-21T17:46:14.156960",
     "exception": false,
     "start_time": "2025-07-21T17:46:14.112191",
     "status": "completed"
    },
    "tags": []
   },
   "outputs": [
    {
     "data": {
      "text/html": [
       "<style>#sk-container-id-1 {color: black;background-color: white;}#sk-container-id-1 pre{padding: 0;}#sk-container-id-1 div.sk-toggleable {background-color: white;}#sk-container-id-1 label.sk-toggleable__label {cursor: pointer;display: block;width: 100%;margin-bottom: 0;padding: 0.3em;box-sizing: border-box;text-align: center;}#sk-container-id-1 label.sk-toggleable__label-arrow:before {content: \"▸\";float: left;margin-right: 0.25em;color: #696969;}#sk-container-id-1 label.sk-toggleable__label-arrow:hover:before {color: black;}#sk-container-id-1 div.sk-estimator:hover label.sk-toggleable__label-arrow:before {color: black;}#sk-container-id-1 div.sk-toggleable__content {max-height: 0;max-width: 0;overflow: hidden;text-align: left;background-color: #f0f8ff;}#sk-container-id-1 div.sk-toggleable__content pre {margin: 0.2em;color: black;border-radius: 0.25em;background-color: #f0f8ff;}#sk-container-id-1 input.sk-toggleable__control:checked~div.sk-toggleable__content {max-height: 200px;max-width: 100%;overflow: auto;}#sk-container-id-1 input.sk-toggleable__control:checked~label.sk-toggleable__label-arrow:before {content: \"▾\";}#sk-container-id-1 div.sk-estimator input.sk-toggleable__control:checked~label.sk-toggleable__label {background-color: #d4ebff;}#sk-container-id-1 div.sk-label input.sk-toggleable__control:checked~label.sk-toggleable__label {background-color: #d4ebff;}#sk-container-id-1 input.sk-hidden--visually {border: 0;clip: rect(1px 1px 1px 1px);clip: rect(1px, 1px, 1px, 1px);height: 1px;margin: -1px;overflow: hidden;padding: 0;position: absolute;width: 1px;}#sk-container-id-1 div.sk-estimator {font-family: monospace;background-color: #f0f8ff;border: 1px dotted black;border-radius: 0.25em;box-sizing: border-box;margin-bottom: 0.5em;}#sk-container-id-1 div.sk-estimator:hover {background-color: #d4ebff;}#sk-container-id-1 div.sk-parallel-item::after {content: \"\";width: 100%;border-bottom: 1px solid gray;flex-grow: 1;}#sk-container-id-1 div.sk-label:hover label.sk-toggleable__label {background-color: #d4ebff;}#sk-container-id-1 div.sk-serial::before {content: \"\";position: absolute;border-left: 1px solid gray;box-sizing: border-box;top: 0;bottom: 0;left: 50%;z-index: 0;}#sk-container-id-1 div.sk-serial {display: flex;flex-direction: column;align-items: center;background-color: white;padding-right: 0.2em;padding-left: 0.2em;position: relative;}#sk-container-id-1 div.sk-item {position: relative;z-index: 1;}#sk-container-id-1 div.sk-parallel {display: flex;align-items: stretch;justify-content: center;background-color: white;position: relative;}#sk-container-id-1 div.sk-item::before, #sk-container-id-1 div.sk-parallel-item::before {content: \"\";position: absolute;border-left: 1px solid gray;box-sizing: border-box;top: 0;bottom: 0;left: 50%;z-index: -1;}#sk-container-id-1 div.sk-parallel-item {display: flex;flex-direction: column;z-index: 1;position: relative;background-color: white;}#sk-container-id-1 div.sk-parallel-item:first-child::after {align-self: flex-end;width: 50%;}#sk-container-id-1 div.sk-parallel-item:last-child::after {align-self: flex-start;width: 50%;}#sk-container-id-1 div.sk-parallel-item:only-child::after {width: 0;}#sk-container-id-1 div.sk-dashed-wrapped {border: 1px dashed gray;margin: 0 0.4em 0.5em 0.4em;box-sizing: border-box;padding-bottom: 0.4em;background-color: white;}#sk-container-id-1 div.sk-label label {font-family: monospace;font-weight: bold;display: inline-block;line-height: 1.2em;}#sk-container-id-1 div.sk-label-container {text-align: center;}#sk-container-id-1 div.sk-container {/* jupyter's `normalize.less` sets `[hidden] { display: none; }` but bootstrap.min.css set `[hidden] { display: none !important; }` so we also need the `!important` here to be able to override the default hidden behavior on the sphinx rendered scikit-learn.org. See: https://github.com/scikit-learn/scikit-learn/issues/21755 */display: inline-block !important;position: relative;}#sk-container-id-1 div.sk-text-repr-fallback {display: none;}</style><div id=\"sk-container-id-1\" class=\"sk-top-container\"><div class=\"sk-text-repr-fallback\"><pre>StandardScaler()</pre><b>In a Jupyter environment, please rerun this cell to show the HTML representation or trust the notebook. <br />On GitHub, the HTML representation is unable to render, please try loading this page with nbviewer.org.</b></div><div class=\"sk-container\" hidden><div class=\"sk-item\"><div class=\"sk-estimator sk-toggleable\"><input class=\"sk-toggleable__control sk-hidden--visually\" id=\"sk-estimator-id-1\" type=\"checkbox\" checked><label for=\"sk-estimator-id-1\" class=\"sk-toggleable__label sk-toggleable__label-arrow\">StandardScaler</label><div class=\"sk-toggleable__content\"><pre>StandardScaler()</pre></div></div></div></div></div>"
      ],
      "text/plain": [
       "StandardScaler()"
      ]
     },
     "execution_count": 26,
     "metadata": {},
     "output_type": "execute_result"
    }
   ],
   "source": [
    "scaler.fit(X_train)"
   ]
  },
  {
   "cell_type": "code",
   "execution_count": 27,
   "id": "56e1934c",
   "metadata": {
    "execution": {
     "iopub.execute_input": "2025-07-21T17:46:14.180982Z",
     "iopub.status.busy": "2025-07-21T17:46:14.180623Z",
     "iopub.status.idle": "2025-07-21T17:46:14.206839Z",
     "shell.execute_reply": "2025-07-21T17:46:14.206000Z"
    },
    "papermill": {
     "duration": 0.040093,
     "end_time": "2025-07-21T17:46:14.208496",
     "exception": false,
     "start_time": "2025-07-21T17:46:14.168403",
     "status": "completed"
    },
    "tags": []
   },
   "outputs": [],
   "source": [
    "X_train_scaled = scaler.transform(X_train)"
   ]
  },
  {
   "cell_type": "code",
   "execution_count": 28,
   "id": "35df19ea",
   "metadata": {
    "execution": {
     "iopub.execute_input": "2025-07-21T17:46:14.232190Z",
     "iopub.status.busy": "2025-07-21T17:46:14.231868Z",
     "iopub.status.idle": "2025-07-21T17:46:14.238032Z",
     "shell.execute_reply": "2025-07-21T17:46:14.237195Z"
    },
    "papermill": {
     "duration": 0.019789,
     "end_time": "2025-07-21T17:46:14.239500",
     "exception": false,
     "start_time": "2025-07-21T17:46:14.219711",
     "status": "completed"
    },
    "tags": []
   },
   "outputs": [],
   "source": [
    "X_test_scaled = scaler.transform(X_test)"
   ]
  },
  {
   "cell_type": "markdown",
   "id": "86bf9165",
   "metadata": {
    "papermill": {
     "duration": 0.012172,
     "end_time": "2025-07-21T17:46:14.262823",
     "exception": false,
     "start_time": "2025-07-21T17:46:14.250651",
     "status": "completed"
    },
    "tags": []
   },
   "source": [
    "## Modeling"
   ]
  },
  {
   "cell_type": "code",
   "execution_count": 29,
   "id": "bae1f2dd",
   "metadata": {
    "execution": {
     "iopub.execute_input": "2025-07-21T17:46:14.286439Z",
     "iopub.status.busy": "2025-07-21T17:46:14.286159Z",
     "iopub.status.idle": "2025-07-21T17:46:14.293355Z",
     "shell.execute_reply": "2025-07-21T17:46:14.292523Z"
    },
    "papermill": {
     "duration": 0.020857,
     "end_time": "2025-07-21T17:46:14.294892",
     "exception": false,
     "start_time": "2025-07-21T17:46:14.274035",
     "status": "completed"
    },
    "tags": []
   },
   "outputs": [],
   "source": [
    "models = {'log':{\n",
    "            'model': LogisticRegression(),\n",
    "            'scaled': True,\n",
    "            'params': {'C': [0.001, 0.003, 0.01, 0.03], 'solver': ['lbfgs', 'liblinear']}\n",
    "         },\n",
    "          'knn':{\n",
    "            'model': KNeighborsClassifier(),\n",
    "            'scaled': True,\n",
    "            'params': {'n_neighbors': [3, 5, 7], 'weights': ['uniform', 'distance']} \n",
    "         },\n",
    "          'svm':{\n",
    "            'model': SVC(),\n",
    "            'scaled': True,\n",
    "            'params': {'C': [0.001, 0.003, 0.01, 0.03], 'kernel': ['rbf', 'linear'], 'gamma': ['scale', 'auto', 0.1, 1]}\n",
    "         },        \n",
    "          'dt':{\n",
    "            'model': DecisionTreeClassifier(),\n",
    "            'scaled': False,\n",
    "            'params': {'max_depth': [5, 10], 'min_samples_split': [2, 5, 10]}\n",
    "         },\n",
    "          'rf':{\n",
    "            'model': RandomForestClassifier(),\n",
    "            'scaled': False,\n",
    "            'params': {'n_estimators': [100, 150], 'max_depth': [5, 10], 'min_samples_split': [2, 5]}\n",
    "         },\n",
    "          \n",
    "          'xgb':{\n",
    "            'model': XGBClassifier(),\n",
    "            'scaled': False,\n",
    "            'params': {'n_estimators': [100, 150], 'learning_rate': [0.03, 0.1], 'max_depth': [3, 5]}\n",
    "         }\n",
    "}"
   ]
  },
  {
   "cell_type": "code",
   "execution_count": 30,
   "id": "57a56a70",
   "metadata": {
    "execution": {
     "iopub.execute_input": "2025-07-21T17:46:14.318738Z",
     "iopub.status.busy": "2025-07-21T17:46:14.317902Z",
     "iopub.status.idle": "2025-07-21T17:46:14.321900Z",
     "shell.execute_reply": "2025-07-21T17:46:14.321028Z"
    },
    "papermill": {
     "duration": 0.017132,
     "end_time": "2025-07-21T17:46:14.323270",
     "exception": false,
     "start_time": "2025-07-21T17:46:14.306138",
     "status": "completed"
    },
    "tags": []
   },
   "outputs": [],
   "source": [
    "# Finding the best hyperparameters for various models."
   ]
  },
  {
   "cell_type": "code",
   "execution_count": 31,
   "id": "5d5fafa5",
   "metadata": {
    "execution": {
     "iopub.execute_input": "2025-07-21T17:46:14.347490Z",
     "iopub.status.busy": "2025-07-21T17:46:14.346705Z",
     "iopub.status.idle": "2025-07-21T17:46:23.657311Z",
     "shell.execute_reply": "2025-07-21T17:46:23.656605Z"
    },
    "papermill": {
     "duration": 9.325035,
     "end_time": "2025-07-21T17:46:23.659404",
     "exception": false,
     "start_time": "2025-07-21T17:46:14.334369",
     "status": "completed"
    },
    "tags": []
   },
   "outputs": [],
   "source": [
    "final_models = []\n",
    "for name, details in models.items():\n",
    "    gscv = GridSearchCV(\n",
    "        details['model'], \n",
    "        details['params'],\n",
    "        cv=3,\n",
    "        scoring='f1_weighted',\n",
    "        n_jobs=-1\n",
    "    )\n",
    "    X_train_final = X_train_scaled\n",
    "    if details['scaled'] == True:\n",
    "        X_train_final = X_train_scaled\n",
    "        X_test_final = X_test_scaled\n",
    "    else:\n",
    "        X_train_final = X_train\n",
    "        X_test_final = X_test\n",
    "    gscv.fit(X_train_final, y_train)\n",
    "\n",
    "    final_models.append({\n",
    "    'model': name,\n",
    "    'best_score': gscv.best_score_,\n",
    "    'best_params': gscv.best_params_})\n"
   ]
  },
  {
   "cell_type": "code",
   "execution_count": 32,
   "id": "bfe4bff3",
   "metadata": {
    "execution": {
     "iopub.execute_input": "2025-07-21T17:46:23.682688Z",
     "iopub.status.busy": "2025-07-21T17:46:23.682374Z",
     "iopub.status.idle": "2025-07-21T17:46:23.690677Z",
     "shell.execute_reply": "2025-07-21T17:46:23.689595Z"
    },
    "papermill": {
     "duration": 0.02146,
     "end_time": "2025-07-21T17:46:23.692144",
     "exception": false,
     "start_time": "2025-07-21T17:46:23.670684",
     "status": "completed"
    },
    "tags": []
   },
   "outputs": [
    {
     "name": "stdout",
     "output_type": "stream",
     "text": [
      "  model  best_score                                        best_params\n",
      "0   log    0.930554                    {'C': 0.001, 'solver': 'lbfgs'}\n",
      "1   knn    0.928583           {'n_neighbors': 7, 'weights': 'uniform'}\n",
      "2   svm    0.930554    {'C': 0.003, 'gamma': 'scale', 'kernel': 'rbf'}\n",
      "3    dt    0.929571           {'max_depth': 5, 'min_samples_split': 5}\n",
      "4    rf    0.930554  {'max_depth': 5, 'min_samples_split': 2, 'n_es...\n",
      "5   xgb    0.930061  {'learning_rate': 0.03, 'max_depth': 3, 'n_est...\n"
     ]
    }
   ],
   "source": [
    "final_models_df = pd.DataFrame(final_models)\n",
    "print(final_models_df)"
   ]
  },
  {
   "cell_type": "code",
   "execution_count": 33,
   "id": "bd3a8be3",
   "metadata": {
    "execution": {
     "iopub.execute_input": "2025-07-21T17:46:23.715324Z",
     "iopub.status.busy": "2025-07-21T17:46:23.715018Z",
     "iopub.status.idle": "2025-07-21T17:46:23.718962Z",
     "shell.execute_reply": "2025-07-21T17:46:23.718076Z"
    },
    "papermill": {
     "duration": 0.017129,
     "end_time": "2025-07-21T17:46:23.720341",
     "exception": false,
     "start_time": "2025-07-21T17:46:23.703212",
     "status": "completed"
    },
    "tags": []
   },
   "outputs": [],
   "source": [
    "# Stacking ensemble"
   ]
  },
  {
   "cell_type": "code",
   "execution_count": 34,
   "id": "901f36fd",
   "metadata": {
    "execution": {
     "iopub.execute_input": "2025-07-21T17:46:23.743922Z",
     "iopub.status.busy": "2025-07-21T17:46:23.743590Z",
     "iopub.status.idle": "2025-07-21T17:46:23.750514Z",
     "shell.execute_reply": "2025-07-21T17:46:23.749694Z"
    },
    "papermill": {
     "duration": 0.020342,
     "end_time": "2025-07-21T17:46:23.752034",
     "exception": false,
     "start_time": "2025-07-21T17:46:23.731692",
     "status": "completed"
    },
    "tags": []
   },
   "outputs": [],
   "source": [
    "estimators = [\n",
    "    ('rf', RandomForestClassifier(**final_models_df.loc[final_models_df['model'] == 'rf']['best_params'].iloc[0])),\n",
    "    ('xgb', XGBClassifier(**final_models_df.loc[final_models_df['model'] == 'xgb']['best_params'].iloc[0])),\n",
    "    ('svm', SVC(**final_models_df.loc[final_models_df['model'] == 'svm']['best_params'].iloc[0]))]"
   ]
  },
  {
   "cell_type": "code",
   "execution_count": 35,
   "id": "2910f472",
   "metadata": {
    "execution": {
     "iopub.execute_input": "2025-07-21T17:46:23.775514Z",
     "iopub.status.busy": "2025-07-21T17:46:23.775227Z",
     "iopub.status.idle": "2025-07-21T17:46:23.779613Z",
     "shell.execute_reply": "2025-07-21T17:46:23.778750Z"
    },
    "papermill": {
     "duration": 0.017904,
     "end_time": "2025-07-21T17:46:23.781190",
     "exception": false,
     "start_time": "2025-07-21T17:46:23.763286",
     "status": "completed"
    },
    "tags": []
   },
   "outputs": [],
   "source": [
    "final_model = StackingClassifier(estimators=estimators, final_estimator=LogisticRegression(max_iter=1000), n_jobs=-1)"
   ]
  },
  {
   "cell_type": "code",
   "execution_count": 36,
   "id": "fb627f3c",
   "metadata": {
    "execution": {
     "iopub.execute_input": "2025-07-21T17:46:23.804816Z",
     "iopub.status.busy": "2025-07-21T17:46:23.804482Z",
     "iopub.status.idle": "2025-07-21T17:46:25.575159Z",
     "shell.execute_reply": "2025-07-21T17:46:25.574397Z"
    },
    "papermill": {
     "duration": 1.786628,
     "end_time": "2025-07-21T17:46:25.579125",
     "exception": false,
     "start_time": "2025-07-21T17:46:23.792497",
     "status": "completed"
    },
    "tags": []
   },
   "outputs": [
    {
     "data": {
      "text/html": [
       "<style>#sk-container-id-2 {color: black;background-color: white;}#sk-container-id-2 pre{padding: 0;}#sk-container-id-2 div.sk-toggleable {background-color: white;}#sk-container-id-2 label.sk-toggleable__label {cursor: pointer;display: block;width: 100%;margin-bottom: 0;padding: 0.3em;box-sizing: border-box;text-align: center;}#sk-container-id-2 label.sk-toggleable__label-arrow:before {content: \"▸\";float: left;margin-right: 0.25em;color: #696969;}#sk-container-id-2 label.sk-toggleable__label-arrow:hover:before {color: black;}#sk-container-id-2 div.sk-estimator:hover label.sk-toggleable__label-arrow:before {color: black;}#sk-container-id-2 div.sk-toggleable__content {max-height: 0;max-width: 0;overflow: hidden;text-align: left;background-color: #f0f8ff;}#sk-container-id-2 div.sk-toggleable__content pre {margin: 0.2em;color: black;border-radius: 0.25em;background-color: #f0f8ff;}#sk-container-id-2 input.sk-toggleable__control:checked~div.sk-toggleable__content {max-height: 200px;max-width: 100%;overflow: auto;}#sk-container-id-2 input.sk-toggleable__control:checked~label.sk-toggleable__label-arrow:before {content: \"▾\";}#sk-container-id-2 div.sk-estimator input.sk-toggleable__control:checked~label.sk-toggleable__label {background-color: #d4ebff;}#sk-container-id-2 div.sk-label input.sk-toggleable__control:checked~label.sk-toggleable__label {background-color: #d4ebff;}#sk-container-id-2 input.sk-hidden--visually {border: 0;clip: rect(1px 1px 1px 1px);clip: rect(1px, 1px, 1px, 1px);height: 1px;margin: -1px;overflow: hidden;padding: 0;position: absolute;width: 1px;}#sk-container-id-2 div.sk-estimator {font-family: monospace;background-color: #f0f8ff;border: 1px dotted black;border-radius: 0.25em;box-sizing: border-box;margin-bottom: 0.5em;}#sk-container-id-2 div.sk-estimator:hover {background-color: #d4ebff;}#sk-container-id-2 div.sk-parallel-item::after {content: \"\";width: 100%;border-bottom: 1px solid gray;flex-grow: 1;}#sk-container-id-2 div.sk-label:hover label.sk-toggleable__label {background-color: #d4ebff;}#sk-container-id-2 div.sk-serial::before {content: \"\";position: absolute;border-left: 1px solid gray;box-sizing: border-box;top: 0;bottom: 0;left: 50%;z-index: 0;}#sk-container-id-2 div.sk-serial {display: flex;flex-direction: column;align-items: center;background-color: white;padding-right: 0.2em;padding-left: 0.2em;position: relative;}#sk-container-id-2 div.sk-item {position: relative;z-index: 1;}#sk-container-id-2 div.sk-parallel {display: flex;align-items: stretch;justify-content: center;background-color: white;position: relative;}#sk-container-id-2 div.sk-item::before, #sk-container-id-2 div.sk-parallel-item::before {content: \"\";position: absolute;border-left: 1px solid gray;box-sizing: border-box;top: 0;bottom: 0;left: 50%;z-index: -1;}#sk-container-id-2 div.sk-parallel-item {display: flex;flex-direction: column;z-index: 1;position: relative;background-color: white;}#sk-container-id-2 div.sk-parallel-item:first-child::after {align-self: flex-end;width: 50%;}#sk-container-id-2 div.sk-parallel-item:last-child::after {align-self: flex-start;width: 50%;}#sk-container-id-2 div.sk-parallel-item:only-child::after {width: 0;}#sk-container-id-2 div.sk-dashed-wrapped {border: 1px dashed gray;margin: 0 0.4em 0.5em 0.4em;box-sizing: border-box;padding-bottom: 0.4em;background-color: white;}#sk-container-id-2 div.sk-label label {font-family: monospace;font-weight: bold;display: inline-block;line-height: 1.2em;}#sk-container-id-2 div.sk-label-container {text-align: center;}#sk-container-id-2 div.sk-container {/* jupyter's `normalize.less` sets `[hidden] { display: none; }` but bootstrap.min.css set `[hidden] { display: none !important; }` so we also need the `!important` here to be able to override the default hidden behavior on the sphinx rendered scikit-learn.org. See: https://github.com/scikit-learn/scikit-learn/issues/21755 */display: inline-block !important;position: relative;}#sk-container-id-2 div.sk-text-repr-fallback {display: none;}</style><div id=\"sk-container-id-2\" class=\"sk-top-container\"><div class=\"sk-text-repr-fallback\"><pre>StackingClassifier(estimators=[(&#x27;rf&#x27;, RandomForestClassifier(max_depth=5)),\n",
       "                               (&#x27;xgb&#x27;,\n",
       "                                XGBClassifier(base_score=None, booster=None,\n",
       "                                              callbacks=None,\n",
       "                                              colsample_bylevel=None,\n",
       "                                              colsample_bynode=None,\n",
       "                                              colsample_bytree=None,\n",
       "                                              device=None,\n",
       "                                              early_stopping_rounds=None,\n",
       "                                              enable_categorical=False,\n",
       "                                              eval_metric=None,\n",
       "                                              feature_types=None, gamma=None,\n",
       "                                              grow_policy=None,\n",
       "                                              importance_type=...\n",
       "                                              learning_rate=0.03, max_bin=None,\n",
       "                                              max_cat_threshold=None,\n",
       "                                              max_cat_to_onehot=None,\n",
       "                                              max_delta_step=None, max_depth=3,\n",
       "                                              max_leaves=None,\n",
       "                                              min_child_weight=None,\n",
       "                                              missing=nan,\n",
       "                                              monotone_constraints=None,\n",
       "                                              multi_strategy=None,\n",
       "                                              n_estimators=100, n_jobs=None,\n",
       "                                              num_parallel_tree=None,\n",
       "                                              random_state=None, ...)),\n",
       "                               (&#x27;svm&#x27;, SVC(C=0.003))],\n",
       "                   final_estimator=LogisticRegression(max_iter=1000),\n",
       "                   n_jobs=-1)</pre><b>In a Jupyter environment, please rerun this cell to show the HTML representation or trust the notebook. <br />On GitHub, the HTML representation is unable to render, please try loading this page with nbviewer.org.</b></div><div class=\"sk-container\" hidden><div class=\"sk-item sk-dashed-wrapped\"><div class=\"sk-label-container\"><div class=\"sk-label sk-toggleable\"><input class=\"sk-toggleable__control sk-hidden--visually\" id=\"sk-estimator-id-2\" type=\"checkbox\" ><label for=\"sk-estimator-id-2\" class=\"sk-toggleable__label sk-toggleable__label-arrow\">StackingClassifier</label><div class=\"sk-toggleable__content\"><pre>StackingClassifier(estimators=[(&#x27;rf&#x27;, RandomForestClassifier(max_depth=5)),\n",
       "                               (&#x27;xgb&#x27;,\n",
       "                                XGBClassifier(base_score=None, booster=None,\n",
       "                                              callbacks=None,\n",
       "                                              colsample_bylevel=None,\n",
       "                                              colsample_bynode=None,\n",
       "                                              colsample_bytree=None,\n",
       "                                              device=None,\n",
       "                                              early_stopping_rounds=None,\n",
       "                                              enable_categorical=False,\n",
       "                                              eval_metric=None,\n",
       "                                              feature_types=None, gamma=None,\n",
       "                                              grow_policy=None,\n",
       "                                              importance_type=...\n",
       "                                              learning_rate=0.03, max_bin=None,\n",
       "                                              max_cat_threshold=None,\n",
       "                                              max_cat_to_onehot=None,\n",
       "                                              max_delta_step=None, max_depth=3,\n",
       "                                              max_leaves=None,\n",
       "                                              min_child_weight=None,\n",
       "                                              missing=nan,\n",
       "                                              monotone_constraints=None,\n",
       "                                              multi_strategy=None,\n",
       "                                              n_estimators=100, n_jobs=None,\n",
       "                                              num_parallel_tree=None,\n",
       "                                              random_state=None, ...)),\n",
       "                               (&#x27;svm&#x27;, SVC(C=0.003))],\n",
       "                   final_estimator=LogisticRegression(max_iter=1000),\n",
       "                   n_jobs=-1)</pre></div></div></div><div class=\"sk-serial\"><div class=\"sk-item\"><div class=\"sk-parallel\"><div class=\"sk-parallel-item\"><div class=\"sk-item\"><div class=\"sk-label-container\"><div class=\"sk-label sk-toggleable\"><label>rf</label></div></div><div class=\"sk-serial\"><div class=\"sk-item\"><div class=\"sk-estimator sk-toggleable\"><input class=\"sk-toggleable__control sk-hidden--visually\" id=\"sk-estimator-id-3\" type=\"checkbox\" ><label for=\"sk-estimator-id-3\" class=\"sk-toggleable__label sk-toggleable__label-arrow\">RandomForestClassifier</label><div class=\"sk-toggleable__content\"><pre>RandomForestClassifier(max_depth=5)</pre></div></div></div></div></div></div><div class=\"sk-parallel-item\"><div class=\"sk-item\"><div class=\"sk-label-container\"><div class=\"sk-label sk-toggleable\"><label>xgb</label></div></div><div class=\"sk-serial\"><div class=\"sk-item\"><div class=\"sk-estimator sk-toggleable\"><input class=\"sk-toggleable__control sk-hidden--visually\" id=\"sk-estimator-id-4\" type=\"checkbox\" ><label for=\"sk-estimator-id-4\" class=\"sk-toggleable__label sk-toggleable__label-arrow\">XGBClassifier</label><div class=\"sk-toggleable__content\"><pre>XGBClassifier(base_score=None, booster=None, callbacks=None,\n",
       "              colsample_bylevel=None, colsample_bynode=None,\n",
       "              colsample_bytree=None, device=None, early_stopping_rounds=None,\n",
       "              enable_categorical=False, eval_metric=None, feature_types=None,\n",
       "              gamma=None, grow_policy=None, importance_type=None,\n",
       "              interaction_constraints=None, learning_rate=0.03, max_bin=None,\n",
       "              max_cat_threshold=None, max_cat_to_onehot=None,\n",
       "              max_delta_step=None, max_depth=3, max_leaves=None,\n",
       "              min_child_weight=None, missing=nan, monotone_constraints=None,\n",
       "              multi_strategy=None, n_estimators=100, n_jobs=None,\n",
       "              num_parallel_tree=None, random_state=None, ...)</pre></div></div></div></div></div></div><div class=\"sk-parallel-item\"><div class=\"sk-item\"><div class=\"sk-label-container\"><div class=\"sk-label sk-toggleable\"><label>svm</label></div></div><div class=\"sk-serial\"><div class=\"sk-item\"><div class=\"sk-estimator sk-toggleable\"><input class=\"sk-toggleable__control sk-hidden--visually\" id=\"sk-estimator-id-5\" type=\"checkbox\" ><label for=\"sk-estimator-id-5\" class=\"sk-toggleable__label sk-toggleable__label-arrow\">SVC</label><div class=\"sk-toggleable__content\"><pre>SVC(C=0.003)</pre></div></div></div></div></div></div></div></div><div class=\"sk-item\"><div class=\"sk-parallel\"><div class=\"sk-parallel-item\"><div class=\"sk-item\"><div class=\"sk-label-container\"><div class=\"sk-label sk-toggleable\"><label>final_estimator</label></div></div><div class=\"sk-serial\"><div class=\"sk-item\"><div class=\"sk-estimator sk-toggleable\"><input class=\"sk-toggleable__control sk-hidden--visually\" id=\"sk-estimator-id-6\" type=\"checkbox\" ><label for=\"sk-estimator-id-6\" class=\"sk-toggleable__label sk-toggleable__label-arrow\">LogisticRegression</label><div class=\"sk-toggleable__content\"><pre>LogisticRegression(max_iter=1000)</pre></div></div></div></div></div></div></div></div></div></div></div></div>"
      ],
      "text/plain": [
       "StackingClassifier(estimators=[('rf', RandomForestClassifier(max_depth=5)),\n",
       "                               ('xgb',\n",
       "                                XGBClassifier(base_score=None, booster=None,\n",
       "                                              callbacks=None,\n",
       "                                              colsample_bylevel=None,\n",
       "                                              colsample_bynode=None,\n",
       "                                              colsample_bytree=None,\n",
       "                                              device=None,\n",
       "                                              early_stopping_rounds=None,\n",
       "                                              enable_categorical=False,\n",
       "                                              eval_metric=None,\n",
       "                                              feature_types=None, gamma=None,\n",
       "                                              grow_policy=None,\n",
       "                                              importance_type=...\n",
       "                                              learning_rate=0.03, max_bin=None,\n",
       "                                              max_cat_threshold=None,\n",
       "                                              max_cat_to_onehot=None,\n",
       "                                              max_delta_step=None, max_depth=3,\n",
       "                                              max_leaves=None,\n",
       "                                              min_child_weight=None,\n",
       "                                              missing=nan,\n",
       "                                              monotone_constraints=None,\n",
       "                                              multi_strategy=None,\n",
       "                                              n_estimators=100, n_jobs=None,\n",
       "                                              num_parallel_tree=None,\n",
       "                                              random_state=None, ...)),\n",
       "                               ('svm', SVC(C=0.003))],\n",
       "                   final_estimator=LogisticRegression(max_iter=1000),\n",
       "                   n_jobs=-1)"
      ]
     },
     "execution_count": 36,
     "metadata": {},
     "output_type": "execute_result"
    }
   ],
   "source": [
    "final_model.fit(X_train_scaled, y_train)"
   ]
  },
  {
   "cell_type": "code",
   "execution_count": 37,
   "id": "7d910662",
   "metadata": {
    "execution": {
     "iopub.execute_input": "2025-07-21T17:46:25.619117Z",
     "iopub.status.busy": "2025-07-21T17:46:25.618779Z",
     "iopub.status.idle": "2025-07-21T17:46:25.808366Z",
     "shell.execute_reply": "2025-07-21T17:46:25.807419Z"
    },
    "papermill": {
     "duration": 0.21169,
     "end_time": "2025-07-21T17:46:25.810033",
     "exception": false,
     "start_time": "2025-07-21T17:46:25.598343",
     "status": "completed"
    },
    "tags": []
   },
   "outputs": [],
   "source": [
    "y_train_predicted = final_model.predict(X_train_scaled)"
   ]
  },
  {
   "cell_type": "code",
   "execution_count": 38,
   "id": "35cefb88",
   "metadata": {
    "execution": {
     "iopub.execute_input": "2025-07-21T17:46:25.834494Z",
     "iopub.status.busy": "2025-07-21T17:46:25.833729Z",
     "iopub.status.idle": "2025-07-21T17:46:25.913618Z",
     "shell.execute_reply": "2025-07-21T17:46:25.912717Z"
    },
    "papermill": {
     "duration": 0.093918,
     "end_time": "2025-07-21T17:46:25.915367",
     "exception": false,
     "start_time": "2025-07-21T17:46:25.821449",
     "status": "completed"
    },
    "tags": []
   },
   "outputs": [],
   "source": [
    "y_test_predicted = final_model.predict(X_test_scaled)"
   ]
  },
  {
   "cell_type": "code",
   "execution_count": 39,
   "id": "6832ad39",
   "metadata": {
    "execution": {
     "iopub.execute_input": "2025-07-21T17:46:25.939979Z",
     "iopub.status.busy": "2025-07-21T17:46:25.939611Z",
     "iopub.status.idle": "2025-07-21T17:46:25.943565Z",
     "shell.execute_reply": "2025-07-21T17:46:25.942830Z"
    },
    "papermill": {
     "duration": 0.018003,
     "end_time": "2025-07-21T17:46:25.945010",
     "exception": false,
     "start_time": "2025-07-21T17:46:25.927007",
     "status": "completed"
    },
    "tags": []
   },
   "outputs": [],
   "source": [
    "# Accuracy and F1 score for the train"
   ]
  },
  {
   "cell_type": "code",
   "execution_count": 40,
   "id": "467f7342",
   "metadata": {
    "execution": {
     "iopub.execute_input": "2025-07-21T17:46:25.969114Z",
     "iopub.status.busy": "2025-07-21T17:46:25.968826Z",
     "iopub.status.idle": "2025-07-21T17:46:25.976251Z",
     "shell.execute_reply": "2025-07-21T17:46:25.975554Z"
    },
    "papermill": {
     "duration": 0.020974,
     "end_time": "2025-07-21T17:46:25.977566",
     "exception": false,
     "start_time": "2025-07-21T17:46:25.956592",
     "status": "completed"
    },
    "tags": []
   },
   "outputs": [
    {
     "data": {
      "text/plain": [
       "0.9305418719211823"
      ]
     },
     "execution_count": 40,
     "metadata": {},
     "output_type": "execute_result"
    }
   ],
   "source": [
    "accuracy_score(y_train_predicted, y_train)"
   ]
  },
  {
   "cell_type": "code",
   "execution_count": 41,
   "id": "034fa03e",
   "metadata": {
    "execution": {
     "iopub.execute_input": "2025-07-21T17:46:26.002205Z",
     "iopub.status.busy": "2025-07-21T17:46:26.001495Z",
     "iopub.status.idle": "2025-07-21T17:46:26.010352Z",
     "shell.execute_reply": "2025-07-21T17:46:26.009444Z"
    },
    "papermill": {
     "duration": 0.022568,
     "end_time": "2025-07-21T17:46:26.011783",
     "exception": false,
     "start_time": "2025-07-21T17:46:25.989215",
     "status": "completed"
    },
    "tags": []
   },
   "outputs": [
    {
     "data": {
      "text/plain": [
       "0.9293233082706768"
      ]
     },
     "execution_count": 41,
     "metadata": {},
     "output_type": "execute_result"
    }
   ],
   "source": [
    "f1_score(y_train_predicted, y_train)"
   ]
  },
  {
   "cell_type": "code",
   "execution_count": 42,
   "id": "77376831",
   "metadata": {
    "execution": {
     "iopub.execute_input": "2025-07-21T17:46:26.036213Z",
     "iopub.status.busy": "2025-07-21T17:46:26.035873Z",
     "iopub.status.idle": "2025-07-21T17:46:26.039964Z",
     "shell.execute_reply": "2025-07-21T17:46:26.039015Z"
    },
    "papermill": {
     "duration": 0.017921,
     "end_time": "2025-07-21T17:46:26.041431",
     "exception": false,
     "start_time": "2025-07-21T17:46:26.023510",
     "status": "completed"
    },
    "tags": []
   },
   "outputs": [],
   "source": [
    "# Accuracy and F1 score for the test "
   ]
  },
  {
   "cell_type": "code",
   "execution_count": 43,
   "id": "3aaa4f38",
   "metadata": {
    "execution": {
     "iopub.execute_input": "2025-07-21T17:46:26.065915Z",
     "iopub.status.busy": "2025-07-21T17:46:26.065572Z",
     "iopub.status.idle": "2025-07-21T17:46:26.072712Z",
     "shell.execute_reply": "2025-07-21T17:46:26.071872Z"
    },
    "papermill": {
     "duration": 0.021168,
     "end_time": "2025-07-21T17:46:26.074214",
     "exception": false,
     "start_time": "2025-07-21T17:46:26.053046",
     "status": "completed"
    },
    "tags": []
   },
   "outputs": [
    {
     "data": {
      "text/plain": [
       "0.9436781609195403"
      ]
     },
     "execution_count": 43,
     "metadata": {},
     "output_type": "execute_result"
    }
   ],
   "source": [
    "accuracy_score(y_test_predicted, y_test)"
   ]
  },
  {
   "cell_type": "code",
   "execution_count": 44,
   "id": "b098e6fd",
   "metadata": {
    "execution": {
     "iopub.execute_input": "2025-07-21T17:46:26.099446Z",
     "iopub.status.busy": "2025-07-21T17:46:26.099161Z",
     "iopub.status.idle": "2025-07-21T17:46:26.106337Z",
     "shell.execute_reply": "2025-07-21T17:46:26.105508Z"
    },
    "papermill": {
     "duration": 0.021275,
     "end_time": "2025-07-21T17:46:26.107581",
     "exception": false,
     "start_time": "2025-07-21T17:46:26.086306",
     "status": "completed"
    },
    "tags": []
   },
   "outputs": [
    {
     "data": {
      "text/plain": [
       "0.9436781609195403"
      ]
     },
     "execution_count": 44,
     "metadata": {},
     "output_type": "execute_result"
    }
   ],
   "source": [
    "accuracy_score(y_test_predicted, y_test)"
   ]
  },
  {
   "cell_type": "code",
   "execution_count": 45,
   "id": "f35502ef",
   "metadata": {
    "execution": {
     "iopub.execute_input": "2025-07-21T17:46:26.132395Z",
     "iopub.status.busy": "2025-07-21T17:46:26.132092Z",
     "iopub.status.idle": "2025-07-21T17:46:26.144452Z",
     "shell.execute_reply": "2025-07-21T17:46:26.143454Z"
    },
    "papermill": {
     "duration": 0.026408,
     "end_time": "2025-07-21T17:46:26.145863",
     "exception": false,
     "start_time": "2025-07-21T17:46:26.119455",
     "status": "completed"
    },
    "tags": []
   },
   "outputs": [
    {
     "name": "stdout",
     "output_type": "stream",
     "text": [
      "              precision    recall  f1-score   support\n",
      "\n",
      "           0       0.95      0.94      0.94       447\n",
      "           1       0.93      0.95      0.94       423\n",
      "\n",
      "    accuracy                           0.94       870\n",
      "   macro avg       0.94      0.94      0.94       870\n",
      "weighted avg       0.94      0.94      0.94       870\n",
      "\n"
     ]
    }
   ],
   "source": [
    "print(classification_report(y_test, y_test_predicted))"
   ]
  },
  {
   "cell_type": "code",
   "execution_count": 46,
   "id": "c3fa2625",
   "metadata": {
    "execution": {
     "iopub.execute_input": "2025-07-21T17:46:26.170563Z",
     "iopub.status.busy": "2025-07-21T17:46:26.170259Z",
     "iopub.status.idle": "2025-07-21T17:46:26.345644Z",
     "shell.execute_reply": "2025-07-21T17:46:26.344693Z"
    },
    "papermill": {
     "duration": 0.18942,
     "end_time": "2025-07-21T17:46:26.347183",
     "exception": false,
     "start_time": "2025-07-21T17:46:26.157763",
     "status": "completed"
    },
    "tags": []
   },
   "outputs": [
    {
     "data": {
      "image/png": "[encoded data removed]",
      "text/plain": [
       "<Figure size 640x480 with 2 Axes>"
      ]
     },
     "metadata": {},
     "output_type": "display_data"
    }
   ],
   "source": [
    "# Confusion Matrix for the test \n",
    "\n",
    "sns.heatmap(confusion_matrix(y_test, y_test_predicted), annot=True, fmt='d', cmap='Blues')\n",
    "plt.xlabel('Predicted')\n",
    "plt.ylabel('True')\n",
    "plt.show()"
   ]
  },
  {
   "cell_type": "code",
   "execution_count": 47,
   "id": "a0ac6066",
   "metadata": {
    "execution": {
     "iopub.execute_input": "2025-07-21T17:46:26.372525Z",
     "iopub.status.busy": "2025-07-21T17:46:26.372252Z",
     "iopub.status.idle": "2025-07-21T17:46:26.376292Z",
     "shell.execute_reply": "2025-07-21T17:46:26.375435Z"
    },
    "papermill": {
     "duration": 0.018213,
     "end_time": "2025-07-21T17:46:26.377740",
     "exception": false,
     "start_time": "2025-07-21T17:46:26.359527",
     "status": "completed"
    },
    "tags": []
   },
   "outputs": [],
   "source": [
    "# I also want to check the Feature Importance so I will run a Random Forest using the best params from before. "
   ]
  },
  {
   "cell_type": "code",
   "execution_count": 48,
   "id": "5161f3e7",
   "metadata": {
    "execution": {
     "iopub.execute_input": "2025-07-21T17:46:26.403845Z",
     "iopub.status.busy": "2025-07-21T17:46:26.403503Z",
     "iopub.status.idle": "2025-07-21T17:46:26.408815Z",
     "shell.execute_reply": "2025-07-21T17:46:26.408059Z"
    },
    "papermill": {
     "duration": 0.020073,
     "end_time": "2025-07-21T17:46:26.410190",
     "exception": false,
     "start_time": "2025-07-21T17:46:26.390117",
     "status": "completed"
    },
    "tags": []
   },
   "outputs": [],
   "source": [
    "rf_params = final_models_df.loc[final_models_df['model'] == 'rf']['best_params'].iloc[0]"
   ]
  },
  {
   "cell_type": "code",
   "execution_count": 49,
   "id": "4eee004b",
   "metadata": {
    "execution": {
     "iopub.execute_input": "2025-07-21T17:46:26.435358Z",
     "iopub.status.busy": "2025-07-21T17:46:26.435043Z",
     "iopub.status.idle": "2025-07-21T17:46:26.439158Z",
     "shell.execute_reply": "2025-07-21T17:46:26.438454Z"
    },
    "papermill": {
     "duration": 0.018354,
     "end_time": "2025-07-21T17:46:26.440628",
     "exception": false,
     "start_time": "2025-07-21T17:46:26.422274",
     "status": "completed"
    },
    "tags": []
   },
   "outputs": [],
   "source": [
    "rf_model = RandomForestClassifier(**rf_params)"
   ]
  },
  {
   "cell_type": "code",
   "execution_count": 50,
   "id": "b09a678b",
   "metadata": {
    "execution": {
     "iopub.execute_input": "2025-07-21T17:46:26.466449Z",
     "iopub.status.busy": "2025-07-21T17:46:26.466130Z",
     "iopub.status.idle": "2025-07-21T17:46:26.650836Z",
     "shell.execute_reply": "2025-07-21T17:46:26.649901Z"
    },
    "papermill": {
     "duration": 0.19912,
     "end_time": "2025-07-21T17:46:26.652303",
     "exception": false,
     "start_time": "2025-07-21T17:46:26.453183",
     "status": "completed"
    },
    "tags": []
   },
   "outputs": [
    {
     "data": {
      "text/html": [
       "<style>#sk-container-id-3 {color: black;background-color: white;}#sk-container-id-3 pre{padding: 0;}#sk-container-id-3 div.sk-toggleable {background-color: white;}#sk-container-id-3 label.sk-toggleable__label {cursor: pointer;display: block;width: 100%;margin-bottom: 0;padding: 0.3em;box-sizing: border-box;text-align: center;}#sk-container-id-3 label.sk-toggleable__label-arrow:before {content: \"▸\";float: left;margin-right: 0.25em;color: #696969;}#sk-container-id-3 label.sk-toggleable__label-arrow:hover:before {color: black;}#sk-container-id-3 div.sk-estimator:hover label.sk-toggleable__label-arrow:before {color: black;}#sk-container-id-3 div.sk-toggleable__content {max-height: 0;max-width: 0;overflow: hidden;text-align: left;background-color: #f0f8ff;}#sk-container-id-3 div.sk-toggleable__content pre {margin: 0.2em;color: black;border-radius: 0.25em;background-color: #f0f8ff;}#sk-container-id-3 input.sk-toggleable__control:checked~div.sk-toggleable__content {max-height: 200px;max-width: 100%;overflow: auto;}#sk-container-id-3 input.sk-toggleable__control:checked~label.sk-toggleable__label-arrow:before {content: \"▾\";}#sk-container-id-3 div.sk-estimator input.sk-toggleable__control:checked~label.sk-toggleable__label {background-color: #d4ebff;}#sk-container-id-3 div.sk-label input.sk-toggleable__control:checked~label.sk-toggleable__label {background-color: #d4ebff;}#sk-container-id-3 input.sk-hidden--visually {border: 0;clip: rect(1px 1px 1px 1px);clip: rect(1px, 1px, 1px, 1px);height: 1px;margin: -1px;overflow: hidden;padding: 0;position: absolute;width: 1px;}#sk-container-id-3 div.sk-estimator {font-family: monospace;background-color: #f0f8ff;border: 1px dotted black;border-radius: 0.25em;box-sizing: border-box;margin-bottom: 0.5em;}#sk-container-id-3 div.sk-estimator:hover {background-color: #d4ebff;}#sk-container-id-3 div.sk-parallel-item::after {content: \"\";width: 100%;border-bottom: 1px solid gray;flex-grow: 1;}#sk-container-id-3 div.sk-label:hover label.sk-toggleable__label {background-color: #d4ebff;}#sk-container-id-3 div.sk-serial::before {content: \"\";position: absolute;border-left: 1px solid gray;box-sizing: border-box;top: 0;bottom: 0;left: 50%;z-index: 0;}#sk-container-id-3 div.sk-serial {display: flex;flex-direction: column;align-items: center;background-color: white;padding-right: 0.2em;padding-left: 0.2em;position: relative;}#sk-container-id-3 div.sk-item {position: relative;z-index: 1;}#sk-container-id-3 div.sk-parallel {display: flex;align-items: stretch;justify-content: center;background-color: white;position: relative;}#sk-container-id-3 div.sk-item::before, #sk-container-id-3 div.sk-parallel-item::before {content: \"\";position: absolute;border-left: 1px solid gray;box-sizing: border-box;top: 0;bottom: 0;left: 50%;z-index: -1;}#sk-container-id-3 div.sk-parallel-item {display: flex;flex-direction: column;z-index: 1;position: relative;background-color: white;}#sk-container-id-3 div.sk-parallel-item:first-child::after {align-self: flex-end;width: 50%;}#sk-container-id-3 div.sk-parallel-item:last-child::after {align-self: flex-start;width: 50%;}#sk-container-id-3 div.sk-parallel-item:only-child::after {width: 0;}#sk-container-id-3 div.sk-dashed-wrapped {border: 1px dashed gray;margin: 0 0.4em 0.5em 0.4em;box-sizing: border-box;padding-bottom: 0.4em;background-color: white;}#sk-container-id-3 div.sk-label label {font-family: monospace;font-weight: bold;display: inline-block;line-height: 1.2em;}#sk-container-id-3 div.sk-label-container {text-align: center;}#sk-container-id-3 div.sk-container {/* jupyter's `normalize.less` sets `[hidden] { display: none; }` but bootstrap.min.css set `[hidden] { display: none !important; }` so we also need the `!important` here to be able to override the default hidden behavior on the sphinx rendered scikit-learn.org. See: https://github.com/scikit-learn/scikit-learn/issues/21755 */display: inline-block !important;position: relative;}#sk-container-id-3 div.sk-text-repr-fallback {display: none;}</style><div id=\"sk-container-id-3\" class=\"sk-top-container\"><div class=\"sk-text-repr-fallback\"><pre>RandomForestClassifier(max_depth=5)</pre><b>In a Jupyter environment, please rerun this cell to show the HTML representation or trust the notebook. <br />On GitHub, the HTML representation is unable to render, please try loading this page with nbviewer.org.</b></div><div class=\"sk-container\" hidden><div class=\"sk-item\"><div class=\"sk-estimator sk-toggleable\"><input class=\"sk-toggleable__control sk-hidden--visually\" id=\"sk-estimator-id-7\" type=\"checkbox\" checked><label for=\"sk-estimator-id-7\" class=\"sk-toggleable__label sk-toggleable__label-arrow\">RandomForestClassifier</label><div class=\"sk-toggleable__content\"><pre>RandomForestClassifier(max_depth=5)</pre></div></div></div></div></div>"
      ],
      "text/plain": [
       "RandomForestClassifier(max_depth=5)"
      ]
     },
     "execution_count": 50,
     "metadata": {},
     "output_type": "execute_result"
    }
   ],
   "source": [
    "rf_model.fit(X_train, y_train)"
   ]
  },
  {
   "cell_type": "code",
   "execution_count": 51,
   "id": "1b65e6ef",
   "metadata": {
    "execution": {
     "iopub.execute_input": "2025-07-21T17:46:26.678689Z",
     "iopub.status.busy": "2025-07-21T17:46:26.677751Z",
     "iopub.status.idle": "2025-07-21T17:46:26.687294Z",
     "shell.execute_reply": "2025-07-21T17:46:26.686539Z"
    },
    "papermill": {
     "duration": 0.02413,
     "end_time": "2025-07-21T17:46:26.688763",
     "exception": false,
     "start_time": "2025-07-21T17:46:26.664633",
     "status": "completed"
    },
    "tags": []
   },
   "outputs": [],
   "source": [
    "feature_importance = pd.DataFrame({'Feature': X_train.columns, 'Importance': rf_model.feature_importances_})"
   ]
  },
  {
   "cell_type": "code",
   "execution_count": 52,
   "id": "42670d7b",
   "metadata": {
    "execution": {
     "iopub.execute_input": "2025-07-21T17:46:26.714744Z",
     "iopub.status.busy": "2025-07-21T17:46:26.714117Z",
     "iopub.status.idle": "2025-07-21T17:46:26.719206Z",
     "shell.execute_reply": "2025-07-21T17:46:26.718423Z"
    },
    "papermill": {
     "duration": 0.019509,
     "end_time": "2025-07-21T17:46:26.720624",
     "exception": false,
     "start_time": "2025-07-21T17:46:26.701115",
     "status": "completed"
    },
    "tags": []
   },
   "outputs": [],
   "source": [
    "feature_importance.sort_values(by='Importance', ascending=False, inplace=True)"
   ]
  },
  {
   "cell_type": "code",
   "execution_count": 53,
   "id": "05cc6917",
   "metadata": {
    "execution": {
     "iopub.execute_input": "2025-07-21T17:46:26.746518Z",
     "iopub.status.busy": "2025-07-21T17:46:26.746245Z",
     "iopub.status.idle": "2025-07-21T17:46:26.752597Z",
     "shell.execute_reply": "2025-07-21T17:46:26.751532Z"
    },
    "papermill": {
     "duration": 0.021093,
     "end_time": "2025-07-21T17:46:26.754108",
     "exception": false,
     "start_time": "2025-07-21T17:46:26.733015",
     "status": "completed"
    },
    "tags": []
   },
   "outputs": [
    {
     "name": "stdout",
     "output_type": "stream",
     "text": [
      "                         Feature  Importance\n",
      "5                 Stage_fear_Yes    0.258470\n",
      "6  Drained_after_socializing_Yes    0.217600\n",
      "0               Time_spent_Alone    0.170772\n",
      "2                  Going_outside    0.122345\n",
      "1        Social_event_attendance    0.121832\n",
      "4                 Post_frequency    0.096816\n",
      "3            Friends_circle_size    0.012164\n"
     ]
    }
   ],
   "source": [
    "print(feature_importance)"
   ]
  },
  {
   "cell_type": "code",
   "execution_count": 54,
   "id": "162db22c",
   "metadata": {
    "execution": {
     "iopub.execute_input": "2025-07-21T17:46:26.780427Z",
     "iopub.status.busy": "2025-07-21T17:46:26.780121Z",
     "iopub.status.idle": "2025-07-21T17:46:27.221951Z",
     "shell.execute_reply": "2025-07-21T17:46:27.221004Z"
    },
    "papermill": {
     "duration": 0.456563,
     "end_time": "2025-07-21T17:46:27.223421",
     "exception": false,
     "start_time": "2025-07-21T17:46:26.766858",
     "status": "completed"
    },
    "tags": []
   },
   "outputs": [
    {
     "data": {
      "image/png": "[encoded data removed]",
      "text/plain": [
       "<Figure size 640x480 with 1 Axes>"
      ]
     },
     "metadata": {},
     "output_type": "display_data"
    }
   ],
   "source": [
    "sns.barplot(data=feature_importance, x='Importance', y='Feature', hue=\"Feature\", palette='Paired')\n",
    "plt.show()"
   ]
  },
  {
   "cell_type": "markdown",
   "id": "032c4aef",
   "metadata": {
    "papermill": {
     "duration": 0.013843,
     "end_time": "2025-07-21T17:46:27.250644",
     "exception": false,
     "start_time": "2025-07-21T17:46:27.236801",
     "status": "completed"
    },
    "tags": []
   },
   "source": [
    "## Conclusions:"
   ]
  },
  {
   "cell_type": "markdown",
   "id": "f5cdb636",
   "metadata": {
    "papermill": {
     "duration": 0.013612,
     "end_time": "2025-07-21T17:46:27.278221",
     "exception": false,
     "start_time": "2025-07-21T17:46:27.264609",
     "status": "completed"
    },
    "tags": []
   },
   "source": [
    "Drained_after_socializing_Yes, Stage_fear_Yes, and Social_event_attendance are the most important features, indicating that emotional and behavioral responses to social situations are strong predictors.\n",
    "\n",
    "The model demonstrates excellent performance, achieving a test accuracy of 94.7% and an F1-score of 0.95.\n",
    "\n",
    "Only 26 false positives and 20 false negatives out of 870 predictions, a small misclassification rate."
   ]
  }
 ],
 "metadata": {
  "kaggle": {
   "accelerator": "none",
   "dataSources": [
    {
     "datasetId": 7474089,
     "sourceId": 12156348,
     "sourceType": "datasetVersion"
    }
   ],
   "dockerImageVersionId": 31089,
   "isGpuEnabled": false,
   "isInternetEnabled": false,
   "language": "python",
   "sourceType": "notebook"
  },
  "kernelspec": {
   "display_name": "Python 3",
   "language": "python",
   "name": "python3"
  },
  "language_info": {
   "codemirror_mode": {
    "name": "ipython",
    "version": 3
   },
   "file_extension": ".py",
   "mimetype": "text/x-python",
   "name": "python",
   "nbconvert_exporter": "python",
   "pygments_lexer": "ipython3",
   "version": "3.11.13"
  },
  "papermill": {
   "default_parameters": {},
   "duration": 32.931385,
   "end_time": "2025-07-21T17:46:29.912980",
   "environment_variables": {},
   "exception": null,
   "input_path": "__notebook__.ipynb",
   "output_path": "__notebook__.ipynb",
   "parameters": {},
   "start_time": "2025-07-21T17:45:56.981595",
   "version": "2.6.0"
  }
 },
 "nbformat": 4,
 "nbformat_minor": 5
}
